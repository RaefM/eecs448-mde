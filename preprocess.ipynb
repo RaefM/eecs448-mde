{
 "cells": [
  {
   "cell_type": "code",
   "execution_count": 1,
   "metadata": {},
   "outputs": [],
   "source": [
    "%load_ext autoreload\n",
    "%config Completer.use_jedi = False\n",
    "%autoreload 2\n",
    "from preprocess import *"
   ]
  },
  {
   "cell_type": "code",
   "execution_count": 2,
   "metadata": {},
   "outputs": [],
   "source": [
    "base_df = get_basic_stemmed_and_lemmatized_df(ngram_start=1, ngram_end=3)"
   ]
  },
  {
   "cell_type": "code",
   "execution_count": 14,
   "metadata": {},
   "outputs": [],
   "source": [
    "base_df.drop(\"processed_body_split\", axis=1).to_csv('aita_preprocessed.csv', sep='\\t', encoding='utf-8')"
   ]
  },
  {
   "cell_type": "code",
   "execution_count": 3,
   "metadata": {},
   "outputs": [
    {
     "name": "stdout",
     "output_type": "stream",
     "text": [
      "AITA for wanting to put the bar down on a ski chair lift?\n",
      "AITA for wanting to put the bar down on a ski chair lift?So this isn’t about a specific instance because this happens to me all the time and i honestly don’t get it.\n",
      "\n",
      "My friends always give me shit whenever i want to put the bar down and make it a big deal, and making it seem like im an asshole.\n",
      "\n",
      "I didn’t real think anything of it until i also started to notice that whenever i want to put the bar down when riding with strangers, more often than not, THEY will also give me a weird/ annoyed response when i ask if it’s cool for me to put the bar down.\n",
      "\n",
      "Usually it’ll go like this:\n",
      "“Hey man, is it cool if i put the bar down?”\n",
      "“Uhm, i guess” Or “whatever” \n",
      "\n",
      "And i don’t see what the big deal is. Is there an unwritten rule im unaware of? \n",
      "\n",
      "So reddit, Am i surrounded by assholes or am i the asshole?\n",
      "aita wanting put bar ski chair lift ? ’ specific instance happens me time i honestly ’ get it . my friend always give me shit whenever i want put bar make it big deal , making it seem like i am asshole . i ’ real think anything it i also started notice whenever i want put bar riding stranger , often , they also give me weird/ annoyed response i ask it ’ cool me put bar . usually it ’ go like : “ hey man , it cool i put bar ? ” “ uhm , i guess ” “ whatever ” i ’ see big deal . unwritten rule i am unaware ? reddit , i surrounded asshole i asshole ?\n"
     ]
    }
   ],
   "source": [
    "i = 2221\n",
    "print(base_df['title'][i])\n",
    "print(base_df['body'][i])\n",
    "print(base_df['processed_body'][i])"
   ]
  },
  {
   "cell_type": "code",
   "execution_count": 7,
   "metadata": {},
   "outputs": [],
   "source": [
    "base_df[base_df['num_words'] > 50].to_csv('aita_preprocessed_gt_50_words.csv', sep='\\t', encoding='utf-8')"
   ]
  },
  {
   "cell_type": "code",
   "execution_count": 8,
   "metadata": {},
   "outputs": [],
   "source": [
    "base_df[base_df['num_words'] > 100].to_csv('aita_preprocessed_gt_100_words.csv', sep='\\t', encoding='utf-8')"
   ]
  },
  {
   "cell_type": "code",
   "execution_count": 9,
   "metadata": {},
   "outputs": [],
   "source": [
    "base_df[base_df['num_words'] < 50].to_csv('aita_preprocessed_lt_50_words.csv', sep='\\t', encoding='utf-8')"
   ]
  }
 ],
 "metadata": {
  "kernelspec": {
   "display_name": "Python 3 (ipykernel)",
   "language": "python",
   "name": "python3"
  },
  "language_info": {
   "codemirror_mode": {
    "name": "ipython",
    "version": 3
   },
   "file_extension": ".py",
   "mimetype": "text/x-python",
   "name": "python",
   "nbconvert_exporter": "python",
   "pygments_lexer": "ipython3",
   "version": "3.8.10"
  }
 },
 "nbformat": 4,
 "nbformat_minor": 2
}
