{
 "cells": [
  {
   "cell_type": "code",
   "execution_count": 59,
   "id": "ad67438a",
   "metadata": {},
   "outputs": [
    {
     "name": "stdout",
     "output_type": "stream",
     "text": [
      "The autoreload extension is already loaded. To reload it, use:\n",
      "  %reload_ext autoreload\n"
     ]
    }
   ],
   "source": [
    "%load_ext autoreload\n",
    "%config Completer.use_jedi = False\n",
    "%autoreload 2\n",
    "from topics import *\n",
    "from preprocess import *\n",
    "import pyLDAvis\n",
    "import pyLDAvis.gensim_models\n",
    "import matplotlib.pyplot as plt\n",
    "from tqdm import tqdm"
   ]
  },
  {
   "cell_type": "code",
   "execution_count": 2,
   "id": "f365fffd",
   "metadata": {},
   "outputs": [],
   "source": [
    "base_df = pd.read_csv('aita_preprocessed.csv', sep='\\t')"
   ]
  },
  {
   "cell_type": "code",
   "execution_count": 3,
   "id": "94f3cb58",
   "metadata": {},
   "outputs": [
    {
     "name": "stdout",
     "output_type": "stream",
     "text": [
      "[['wrote', 'explanation', 'til', 'came', 'condescending', 'post', 'question', 'http', '//www.reddit.com/r/todayilearned/comments/1y40m9/til_a_circle_of_infinite_circumference_is_a/cfhhajs', 'context=3', 'seems', 'like', 'came', 'asshole', 'future', 'avoid', 'thought', 'randomly', 'explaining', 'something', 'seems', 'common', 'reddit', 'definitely', 'said', 'sorry', 'trying', 'help', 'pretty', 'immature', 'rude', 'asshole', 'wrote', 'little', 'possible', 'skew', 'perspective', 'little', 'possible']]\n",
      "[[(0, 1), (1, 2), (2, 1), (3, 2), (4, 1), (5, 1), (6, 1), (7, 1), (8, 1), (9, 1), (10, 1), (11, 1), (12, 1), (13, 1), (14, 1), (15, 2), (16, 1), (17, 2), (18, 1), (19, 1), (20, 1), (21, 1), (22, 1), (23, 1), (24, 1), (25, 2), (26, 1), (27, 1), (28, 1), (29, 1), (30, 1), (31, 1), (32, 2)]]\n"
     ]
    }
   ],
   "source": [
    "id2word, corpus = get_corpus(base_df)"
   ]
  },
  {
   "cell_type": "code",
   "execution_count": 4,
   "id": "51c3ace5",
   "metadata": {},
   "outputs": [
    {
     "name": "stdout",
     "output_type": "stream",
     "text": [
      "Attemtpting to model with 3 topics\n"
     ]
    }
   ],
   "source": [
    "print(\"Attemtpting to model with 3 topics\")\n",
    "lda_model_3, doc_lda_3 = train_lda_model(base_df, id2word, corpus, n_topics=3)"
   ]
  },
  {
   "cell_type": "code",
   "execution_count": 5,
   "id": "ab0a8718",
   "metadata": {},
   "outputs": [],
   "source": [
    "# print perplexity (higher the worse) and coherence (lower the better)\n",
    "# get_scores(lda_model_5, id2word, corpus)"
   ]
  },
  {
   "cell_type": "code",
   "execution_count": 6,
   "id": "e871876a",
   "metadata": {},
   "outputs": [
    {
     "data": {
      "text/plain": [
       "[(0,\n",
       "  '0.017*\"friend\" + 0.012*\"like\" + 0.011*\"would\" + 0.010*\"said\" + 0.009*\"told\" + 0.008*\"know\" + 0.008*\"want\" + 0.008*\"really\" + 0.007*\"time\" + 0.007*\"year\"'),\n",
       " (1,\n",
       "  '0.010*\"get\" + 0.009*\"like\" + 0.008*\"said\" + 0.008*\"dog\" + 0.007*\"one\" + 0.007*\"would\" + 0.007*\"room\" + 0.007*\"time\" + 0.006*\"back\" + 0.006*\"go\"'),\n",
       " (2,\n",
       "  '0.014*\"would\" + 0.010*\"year\" + 0.010*\"time\" + 0.010*\"work\" + 0.009*\"get\" + 0.009*\"money\" + 0.008*\"want\" + 0.008*\"family\" + 0.007*\"day\" + 0.007*\"mom\"')]"
      ]
     },
     "execution_count": 6,
     "metadata": {},
     "output_type": "execute_result"
    }
   ],
   "source": [
    "lda_model_3.print_topics()"
   ]
  },
  {
   "cell_type": "code",
   "execution_count": 7,
   "id": "50563d90",
   "metadata": {},
   "outputs": [
    {
     "name": "stdout",
     "output_type": "stream",
     "text": [
      "Attemtpting to model with 5 topics\n"
     ]
    }
   ],
   "source": [
    "print(\"Attemtpting to model with 5 topics\")\n",
    "lda_model_5, doc_lda_5 = train_lda_model(base_df, id2word, corpus, n_topics=5)"
   ]
  },
  {
   "cell_type": "code",
   "execution_count": 16,
   "id": "9715b4dc",
   "metadata": {},
   "outputs": [
    {
     "data": {
      "text/plain": [
       "[(0,\n",
       "  '0.022*\"friend\" + 0.014*\"like\" + 0.011*\"said\" + 0.010*\"would\" + 0.009*\"know\" + 0.009*\"told\" + 0.009*\"really\" + 0.008*\"one\" + 0.007*\"time\" + 0.007*\"people\" + 0.006*\"want\" + 0.006*\"thing\" + 0.006*\"think\" + 0.006*\"feel\" + 0.006*\"say\" + 0.005*\"get\" + 0.005*\"“\" + 0.005*\"”\" + 0.005*\"got\" + 0.005*\"even\"'),\n",
       " (1,\n",
       "  '0.013*\"car\" + 0.013*\"get\" + 0.012*\"go\" + 0.011*\"said\" + 0.011*\"back\" + 0.008*\"home\" + 0.007*\"got\" + 0.007*\"would\" + 0.007*\"could\" + 0.007*\"minute\" + 0.007*\"time\" + 0.007*\"going\" + 0.006*\"went\" + 0.006*\"told\" + 0.006*\"one\" + 0.006*\"drive\" + 0.006*\"night\" + 0.006*\"say\" + 0.006*\"hour\" + 0.005*\"”\"'),\n",
       " (2,\n",
       "  '0.018*\"work\" + 0.016*\"money\" + 0.015*\"would\" + 0.013*\"pay\" + 0.013*\"job\" + 0.009*\"get\" + 0.008*\"time\" + 0.007*\"month\" + 0.007*\"week\" + 0.007*\"day\" + 0.006*\"one\" + 0.006*\"year\" + 0.006*\"back\" + 0.005*\"could\" + 0.005*\"new\" + 0.005*\"want\" + 0.005*\"help\" + 0.005*\"need\" + 0.004*\"working\" + 0.004*\"told\"'),\n",
       " (3,\n",
       "  '0.013*\"year\" + 0.013*\"would\" + 0.013*\"family\" + 0.012*\"mom\" + 0.011*\"want\" + 0.010*\"time\" + 0.010*\"sister\" + 0.009*\"parent\" + 0.009*\"dad\" + 0.008*\"go\" + 0.008*\"told\" + 0.007*\"like\" + 0.007*\"get\" + 0.007*\"brother\" + 0.007*\"kid\" + 0.006*\"know\" + 0.006*\"\\'s\" + 0.006*\"mother\" + 0.006*\"going\" + 0.006*\"feel\"'),\n",
       " (4,\n",
       "  '0.015*\"dog\" + 0.014*\"room\" + 0.011*\"house\" + 0.009*\"get\" + 0.009*\"like\" + 0.008*\"roommate\" + 0.008*\"food\" + 0.008*\"time\" + 0.007*\"would\" + 0.007*\"home\" + 0.007*\"one\" + 0.006*\"cat\" + 0.006*\"day\" + 0.005*\"apartment\" + 0.005*\"sleep\" + 0.005*\"eat\" + 0.005*\"bed\" + 0.005*\"take\" + 0.005*\"night\" + 0.005*\"want\"')]"
      ]
     },
     "execution_count": 16,
     "metadata": {},
     "output_type": "execute_result"
    }
   ],
   "source": [
    "lda_model_5.print_topics(num_words=20)"
   ]
  },
  {
   "cell_type": "code",
   "execution_count": 9,
   "id": "5f26cc65",
   "metadata": {},
   "outputs": [
    {
     "name": "stdout",
     "output_type": "stream",
     "text": [
      "Attemtpting to model with 7 topics\n"
     ]
    }
   ],
   "source": [
    "print(\"Attemtpting to model with 7 topics\")\n",
    "lda_model_7, doc_lda_7 = train_lda_model(base_df, id2word, corpus, n_topics=7)"
   ]
  },
  {
   "cell_type": "code",
   "execution_count": 17,
   "id": "bb9ee79a",
   "metadata": {},
   "outputs": [
    {
     "data": {
      "text/plain": [
       "[(0,\n",
       "  '0.014*\"like\" + 0.012*\"“\" + 0.012*\"”\" + 0.011*\"said\" + 0.010*\"people\" + 0.008*\"one\" + 0.008*\"know\" + 0.008*\"friend\" + 0.007*\"would\" + 0.007*\"say\" + 0.007*\"really\" + 0.006*\"think\" + 0.006*\"thing\" + 0.005*\"told\" + 0.005*\"something\" + 0.005*\"get\" + 0.004*\"game\" + 0.004*\"group\" + 0.004*\"school\" + 0.004*\"guy\"'),\n",
       " (1,\n",
       "  '0.008*\"--\" + 0.008*\"wear\" + 0.007*\"would\" + 0.007*\"told\" + 0.007*\"get\" + 0.007*\"dress\" + 0.006*\"said\" + 0.006*\"doctor\" + 0.006*\"got\" + 0.006*\"smoke\" + 0.006*\"like\" + 0.005*\"one\" + 0.005*\"weight\" + 0.005*\"wearing\" + 0.004*\"could\" + 0.004*\"weed\" + 0.004*\"gym\" + 0.004*\"look\" + 0.004*\"smoking\" + 0.004*\"hair\"'),\n",
       " (2,\n",
       "  '0.019*\"work\" + 0.017*\"would\" + 0.013*\"money\" + 0.013*\"job\" + 0.012*\"pay\" + 0.011*\"time\" + 0.009*\"get\" + 0.009*\"day\" + 0.009*\"week\" + 0.008*\"month\" + 0.006*\"back\" + 0.006*\"one\" + 0.006*\"could\" + 0.006*\"year\" + 0.006*\"go\" + 0.006*\"told\" + 0.006*\"want\" + 0.005*\"going\" + 0.005*\"hour\" + 0.005*\"said\"'),\n",
       " (3,\n",
       "  '0.027*\"friend\" + 0.015*\"would\" + 0.013*\"like\" + 0.012*\"time\" + 0.011*\"want\" + 0.011*\"told\" + 0.010*\"really\" + 0.009*\"know\" + 0.009*\"feel\" + 0.008*\"year\" + 0.008*\"said\" + 0.007*\"go\" + 0.007*\"going\" + 0.007*\"thing\" + 0.006*\"get\" + 0.006*\"one\" + 0.006*\"day\" + 0.006*\"together\" + 0.006*\"boyfriend\" + 0.006*\"relationship\"'),\n",
       " (4,\n",
       "  '0.019*\"dog\" + 0.011*\"room\" + 0.011*\"food\" + 0.010*\"like\" + 0.009*\"house\" + 0.009*\"get\" + 0.008*\"would\" + 0.008*\"one\" + 0.008*\"roommate\" + 0.008*\"time\" + 0.007*\"cat\" + 0.006*\"eat\" + 0.006*\"home\" + 0.005*\"thing\" + 0.005*\"day\" + 0.005*\"want\" + 0.005*\"take\" + 0.005*\"clean\" + 0.005*\"said\" + 0.005*\"make\"'),\n",
       " (5,\n",
       "  '0.013*\"get\" + 0.013*\"car\" + 0.012*\"go\" + 0.010*\"back\" + 0.010*\"said\" + 0.008*\"home\" + 0.008*\"night\" + 0.008*\"time\" + 0.007*\"minute\" + 0.007*\"got\" + 0.007*\"could\" + 0.006*\"would\" + 0.006*\"going\" + 0.006*\"like\" + 0.006*\"went\" + 0.006*\"hour\" + 0.006*\"say\" + 0.006*\"around\" + 0.006*\"one\" + 0.006*\"door\"'),\n",
       " (6,\n",
       "  '0.023*\"mom\" + 0.021*\"family\" + 0.018*\"sister\" + 0.017*\"parent\" + 0.017*\"dad\" + 0.015*\"year\" + 0.015*\"kid\" + 0.014*\"brother\" + 0.012*\"mother\" + 0.011*\"want\" + 0.010*\"wife\" + 0.010*\"would\" + 0.009*\"\\'s\" + 0.009*\"child\" + 0.008*\"husband\" + 0.008*\"house\" + 0.007*\"son\" + 0.007*\"daughter\" + 0.007*\"get\" + 0.007*\"time\"')]"
      ]
     },
     "execution_count": 17,
     "metadata": {},
     "output_type": "execute_result"
    }
   ],
   "source": [
    "lda_model_7.print_topics(num_words=20)"
   ]
  },
  {
   "cell_type": "code",
   "execution_count": 18,
   "id": "24a133e1",
   "metadata": {},
   "outputs": [
    {
     "name": "stdout",
     "output_type": "stream",
     "text": [
      "Attemtpting to model with 4 topics\n"
     ]
    }
   ],
   "source": [
    "print(\"Attemtpting to model with 4 topics\")\n",
    "lda_model_4, doc_lda_4 = train_lda_model(base_df, id2word, corpus, n_topics=4)"
   ]
  },
  {
   "cell_type": "code",
   "execution_count": 19,
   "id": "48ccaf63",
   "metadata": {},
   "outputs": [
    {
     "data": {
      "text/plain": [
       "[(0,\n",
       "  '0.024*\"friend\" + 0.013*\"like\" + 0.011*\"said\" + 0.011*\"would\" + 0.009*\"told\" + 0.009*\"know\" + 0.008*\"really\" + 0.007*\"time\" + 0.007*\"one\" + 0.007*\"want\" + 0.006*\"people\" + 0.006*\"thing\" + 0.006*\"feel\" + 0.006*\"”\" + 0.006*\"“\" + 0.006*\"get\" + 0.006*\"say\" + 0.005*\"think\" + 0.005*\"got\" + 0.005*\"asked\"'),\n",
       " (1,\n",
       "  '0.011*\"get\" + 0.009*\"dog\" + 0.008*\"like\" + 0.008*\"room\" + 0.008*\"said\" + 0.007*\"time\" + 0.007*\"home\" + 0.007*\"go\" + 0.007*\"would\" + 0.007*\"one\" + 0.006*\"back\" + 0.006*\"house\" + 0.005*\"got\" + 0.005*\"car\" + 0.005*\"could\" + 0.005*\"food\" + 0.005*\"day\" + 0.005*\"say\" + 0.005*\"night\" + 0.004*\"told\"'),\n",
       " (2,\n",
       "  '0.016*\"work\" + 0.015*\"would\" + 0.013*\"money\" + 0.011*\"pay\" + 0.010*\"job\" + 0.009*\"get\" + 0.009*\"time\" + 0.007*\"day\" + 0.007*\"week\" + 0.007*\"month\" + 0.006*\"one\" + 0.006*\"back\" + 0.005*\"could\" + 0.005*\"year\" + 0.005*\"want\" + 0.005*\"told\" + 0.005*\"new\" + 0.005*\"said\" + 0.004*\"also\" + 0.004*\"got\"'),\n",
       " (3,\n",
       "  '0.015*\"family\" + 0.014*\"mom\" + 0.014*\"year\" + 0.012*\"would\" + 0.011*\"want\" + 0.011*\"sister\" + 0.010*\"parent\" + 0.010*\"dad\" + 0.009*\"time\" + 0.009*\"brother\" + 0.008*\"kid\" + 0.008*\"go\" + 0.007*\"like\" + 0.007*\"get\" + 0.007*\"told\" + 0.006*\"mother\" + 0.006*\"\\'s\" + 0.006*\"husband\" + 0.006*\"know\" + 0.006*\"christmas\"')]"
      ]
     },
     "execution_count": 19,
     "metadata": {},
     "output_type": "execute_result"
    }
   ],
   "source": [
    "lda_model_4.print_topics(num_words=20)"
   ]
  },
  {
   "cell_type": "code",
   "execution_count": 11,
   "id": "045f7d3f",
   "metadata": {},
   "outputs": [],
   "source": [
    "# # try in notebook to visualize:\n",
    "# pyLDAvis.enable_notebook(local=True)\n",
    "# vis = pyLDAvis.gensim.prepare(lda_model_5, corpus, id2word)\n",
    "# pyLDAvis.show(vis)"
   ]
  },
  {
   "cell_type": "code",
   "execution_count": 36,
   "id": "502f9914",
   "metadata": {},
   "outputs": [
    {
     "data": {
      "text/plain": [
       "[(0, 0.12738097), (1, 0.11953248), (3, 0.16891189), (4, 0.5814178)]"
      ]
     },
     "execution_count": 36,
     "metadata": {},
     "output_type": "execute_result"
    }
   ],
   "source": [
    "doc_lda_5[1][0]"
   ]
  },
  {
   "cell_type": "code",
   "execution_count": 37,
   "id": "96f86445",
   "metadata": {},
   "outputs": [],
   "source": [
    "# convert lda vectors to a dataframe\n",
    "topic_df_5 = create_topic_df(base_df, doc_lda_5, n_topics=5)"
   ]
  },
  {
   "cell_type": "code",
   "execution_count": 38,
   "id": "e645ae8e",
   "metadata": {},
   "outputs": [
    {
     "data": {
      "text/html": [
       "<div>\n",
       "<style scoped>\n",
       "    .dataframe tbody tr th:only-of-type {\n",
       "        vertical-align: middle;\n",
       "    }\n",
       "\n",
       "    .dataframe tbody tr th {\n",
       "        vertical-align: top;\n",
       "    }\n",
       "\n",
       "    .dataframe thead th {\n",
       "        text-align: right;\n",
       "    }\n",
       "</style>\n",
       "<table border=\"1\" class=\"dataframe\">\n",
       "  <thead>\n",
       "    <tr style=\"text-align: right;\">\n",
       "      <th></th>\n",
       "      <th>TopicProb0</th>\n",
       "      <th>TopicProb1</th>\n",
       "      <th>TopicProb2</th>\n",
       "      <th>TopicProb3</th>\n",
       "      <th>TopicProb4</th>\n",
       "      <th>id</th>\n",
       "    </tr>\n",
       "  </thead>\n",
       "  <tbody>\n",
       "    <tr>\n",
       "      <th>0</th>\n",
       "      <td>0.982506</td>\n",
       "      <td>0.000000</td>\n",
       "      <td>0.000000</td>\n",
       "      <td>0.000000</td>\n",
       "      <td>0.000000</td>\n",
       "      <td>1ytxov</td>\n",
       "    </tr>\n",
       "    <tr>\n",
       "      <th>1</th>\n",
       "      <td>0.127384</td>\n",
       "      <td>0.119526</td>\n",
       "      <td>0.000000</td>\n",
       "      <td>0.168930</td>\n",
       "      <td>0.581403</td>\n",
       "      <td>1yu29c</td>\n",
       "    </tr>\n",
       "    <tr>\n",
       "      <th>2</th>\n",
       "      <td>0.902487</td>\n",
       "      <td>0.034550</td>\n",
       "      <td>0.025414</td>\n",
       "      <td>0.020430</td>\n",
       "      <td>0.017119</td>\n",
       "      <td>1yu8hi</td>\n",
       "    </tr>\n",
       "    <tr>\n",
       "      <th>3</th>\n",
       "      <td>0.900882</td>\n",
       "      <td>0.034475</td>\n",
       "      <td>0.026036</td>\n",
       "      <td>0.020994</td>\n",
       "      <td>0.017614</td>\n",
       "      <td>1yuc78</td>\n",
       "    </tr>\n",
       "    <tr>\n",
       "      <th>4</th>\n",
       "      <td>0.938107</td>\n",
       "      <td>0.021991</td>\n",
       "      <td>0.016089</td>\n",
       "      <td>0.012959</td>\n",
       "      <td>0.010854</td>\n",
       "      <td>1yueqb</td>\n",
       "    </tr>\n",
       "    <tr>\n",
       "      <th>...</th>\n",
       "      <td>...</td>\n",
       "      <td>...</td>\n",
       "      <td>...</td>\n",
       "      <td>...</td>\n",
       "      <td>...</td>\n",
       "      <td>...</td>\n",
       "    </tr>\n",
       "    <tr>\n",
       "      <th>97623</th>\n",
       "      <td>0.249288</td>\n",
       "      <td>0.000000</td>\n",
       "      <td>0.184422</td>\n",
       "      <td>0.514235</td>\n",
       "      <td>0.048318</td>\n",
       "      <td>ex94w5</td>\n",
       "    </tr>\n",
       "    <tr>\n",
       "      <th>97624</th>\n",
       "      <td>0.659647</td>\n",
       "      <td>0.000000</td>\n",
       "      <td>0.000000</td>\n",
       "      <td>0.107031</td>\n",
       "      <td>0.231310</td>\n",
       "      <td>ex970f</td>\n",
       "    </tr>\n",
       "    <tr>\n",
       "      <th>97625</th>\n",
       "      <td>0.433089</td>\n",
       "      <td>0.000000</td>\n",
       "      <td>0.423658</td>\n",
       "      <td>0.141085</td>\n",
       "      <td>0.000000</td>\n",
       "      <td>ex9dwo</td>\n",
       "    </tr>\n",
       "    <tr>\n",
       "      <th>97626</th>\n",
       "      <td>0.000000</td>\n",
       "      <td>0.000000</td>\n",
       "      <td>0.000000</td>\n",
       "      <td>0.992033</td>\n",
       "      <td>0.000000</td>\n",
       "      <td>ex9egs</td>\n",
       "    </tr>\n",
       "    <tr>\n",
       "      <th>97627</th>\n",
       "      <td>0.591536</td>\n",
       "      <td>0.063219</td>\n",
       "      <td>0.310187</td>\n",
       "      <td>0.034366</td>\n",
       "      <td>0.000000</td>\n",
       "      <td>ex9g78</td>\n",
       "    </tr>\n",
       "  </tbody>\n",
       "</table>\n",
       "<p>97628 rows × 6 columns</p>\n",
       "</div>"
      ],
      "text/plain": [
       "       TopicProb0  TopicProb1  TopicProb2  TopicProb3  TopicProb4      id\n",
       "0        0.982506    0.000000    0.000000    0.000000    0.000000  1ytxov\n",
       "1        0.127384    0.119526    0.000000    0.168930    0.581403  1yu29c\n",
       "2        0.902487    0.034550    0.025414    0.020430    0.017119  1yu8hi\n",
       "3        0.900882    0.034475    0.026036    0.020994    0.017614  1yuc78\n",
       "4        0.938107    0.021991    0.016089    0.012959    0.010854  1yueqb\n",
       "...           ...         ...         ...         ...         ...     ...\n",
       "97623    0.249288    0.000000    0.184422    0.514235    0.048318  ex94w5\n",
       "97624    0.659647    0.000000    0.000000    0.107031    0.231310  ex970f\n",
       "97625    0.433089    0.000000    0.423658    0.141085    0.000000  ex9dwo\n",
       "97626    0.000000    0.000000    0.000000    0.992033    0.000000  ex9egs\n",
       "97627    0.591536    0.063219    0.310187    0.034366    0.000000  ex9g78\n",
       "\n",
       "[97628 rows x 6 columns]"
      ]
     },
     "execution_count": 38,
     "metadata": {},
     "output_type": "execute_result"
    }
   ],
   "source": [
    "topic_df_5"
   ]
  },
  {
   "cell_type": "code",
   "execution_count": 67,
   "id": "9de6e43d",
   "metadata": {},
   "outputs": [
    {
     "data": {
      "text/plain": [
       "([(0, 0.24928604), (2, 0.1844216), (3, 0.5142249), (4, 0.048329335)],\n",
       " [(14, [3, 0, 2, 4]),\n",
       "  (34, [3, 2, 0, 4]),\n",
       "  (61, [3, 4, 2]),\n",
       "  (73, [3, 2]),\n",
       "  (89, [0, 3]),\n",
       "  (92, [3, 0, 2, 4]),\n",
       "  (108, [3, 0, 2, 4]),\n",
       "  (110, [3, 0, 2, 4]),\n",
       "  (130, [3, 0, 2, 4]),\n",
       "  (156, [3, 0, 2, 4]),\n",
       "  (254, [0, 3]),\n",
       "  (305, [3, 0, 2, 4]),\n",
       "  (318, [3]),\n",
       "  (338, [0, 3]),\n",
       "  (403, [3, 0, 4]),\n",
       "  (548, [3, 2, 0, 4]),\n",
       "  (595, [3, 4, 2]),\n",
       "  (600, [2, 3]),\n",
       "  (605, [0, 3, 2, 4]),\n",
       "  (669, [3, 0, 2, 4]),\n",
       "  (696, [2, 3]),\n",
       "  (707, [3, 0, 2]),\n",
       "  (975, [3, 0, 2, 4]),\n",
       "  (1178, [4, 0]),\n",
       "  (1239, [3, 2, 0, 4]),\n",
       "  (1247, [2, 3, 0, 4]),\n",
       "  (1328, [3, 0, 4]),\n",
       "  (1363, [2, 3, 0]),\n",
       "  (1840, [3, 0, 2]),\n",
       "  (2022, [3, 2, 0, 4]),\n",
       "  (2028, [0, 4]),\n",
       "  (2034, [3, 2, 0]),\n",
       "  (2400, [3, 2, 0, 4]),\n",
       "  (2438, [3, 0, 2]),\n",
       "  (3102, [3, 0, 2, 4]),\n",
       "  (3245, [3, 0]),\n",
       "  (3363, [3, 0, 2, 4]),\n",
       "  (3550, [3, 0]),\n",
       "  (3781, [3, 0, 4, 1, 2]),\n",
       "  (4457, [2, 3, 4]),\n",
       "  (4869, [4, 3, 2]),\n",
       "  (6066, [3, 2, 0]),\n",
       "  (6216, [2, 4, 3]),\n",
       "  (6896, [0, 2, 4]),\n",
       "  (7419, [2, 0, 3]),\n",
       "  (7886, [3, 2, 0, 4]),\n",
       "  (8331, [2, 4, 0, 3]),\n",
       "  (11180, [3, 0, 2, 4]),\n",
       "  (17146, [3, 0]),\n",
       "  (17190, [3, 2]),\n",
       "  (22956, [3, 0]),\n",
       "  (64688, [3, 2, 0, 4]),\n",
       "  (142424, [3, 2, 0, 4])],\n",
       " [(14, [(0, 0.42277807), (2, 0.06553875), (3, 0.46668395), (4, 0.04485184)]),\n",
       "  (34, [(0, 0.08226335), (2, 0.24069536), (3, 0.63092625), (4, 0.04577144)]),\n",
       "  (61, [(2, 0.08466402), (3, 0.8153419), (4, 0.09872563)]),\n",
       "  (73, [(2, 0.04601244), (3, 0.9498343)]),\n",
       "  (89, [(0, 1.741048), (3, 0.25842568)]),\n",
       "  (92, [(0, 0.6094658), (2, 0.22409306), (3, 1.1314882), (4, 0.03452031)]),\n",
       "  (108, [(0, 0.121160515), (2, 0.1124631), (3, 0.748487), (4, 0.016594358)]),\n",
       "  (110,\n",
       "   [(0, 0.33598354), (2, 0.113302715), (3, 0.51226014), (4, 0.038257882)]),\n",
       "  (130, [(0, 0.3717816), (2, 0.07089369), (3, 0.53441024), (4, 0.022766968)]),\n",
       "  (156, [(0, 0.55580914), (2, 0.34640446), (3, 1.0306793), (4, 0.06670125)]),\n",
       "  (254, [(0, 0.74876904), (3, 0.24373585)]),\n",
       "  (305, [(0, 0.24866675), (2, 0.17993854), (3, 0.54413116), (4, 0.027172264)]),\n",
       "  (318, [(3, 2.9956067)]),\n",
       "  (338, [(0, 0.500825), (3, 0.49653408)]),\n",
       "  (403, [(0, 0.031036312), (3, 0.9515706), (4, 0.016762458)]),\n",
       "  (548, [(0, 0.14628881), (2, 0.3737098), (3, 0.4555916), (4, 0.024163732)]),\n",
       "  (595, [(2, 0.09214927), (3, 0.75350374), (4, 0.15412559)]),\n",
       "  (600, [(2, 0.8596481), (3, 0.13347565)]),\n",
       "  (605, [(0, 0.6013083), (2, 0.09811656), (3, 0.25295377), (4, 0.046965282)]),\n",
       "  (669, [(0, 0.3195949), (2, 0.1749943), (3, 0.47751355), (4, 0.02769587)]),\n",
       "  (696, [(2, 0.98167145), (3, 0.014005103)]),\n",
       "  (707, [(0, 0.30295372), (2, 0.21862732), (3, 0.47798347)]),\n",
       "  (975, [(0, 0.3842495), (2, 0.04766477), (3, 0.5522942), (4, 0.015601182)]),\n",
       "  (1178, [(0, 0.38303354), (4, 0.60656506)]),\n",
       "  (1239,\n",
       "   [(0, 0.19028842), (2, 0.26376978), (3, 0.49540722), (4, 0.050202224)]),\n",
       "  (1247, [(0, 0.18007569), (2, 0.4080004), (3, 0.39647982), (4, 0.015055484)]),\n",
       "  (1328, [(0, 0.28783047), (3, 0.69858843), (4, 0.013183032)]),\n",
       "  (1363, [(0, 0.057653405), (2, 0.80602324), (3, 0.13444346)]),\n",
       "  (1840, [(0, 0.39464617), (2, 0.17629254), (3, 0.42481443)]),\n",
       "  (2022, [(0, 0.15530507), (2, 0.31511122), (3, 0.5178759), (4, 0.010266057)]),\n",
       "  (2028, [(0, 3.8993297), (4, 0.097558685)]),\n",
       "  (2034, [(0, 0.09284691), (2, 0.15690547), (3, 0.749827)]),\n",
       "  (2400, [(0, 0.11945151), (2, 0.12522514), (3, 0.6803787), (4, 0.073396936)]),\n",
       "  (2438, [(0, 0.10242347), (2, 0.026955845), (3, 0.86049724)]),\n",
       "  (3102, [(0, 0.20814843), (2, 0.19946103), (3, 0.5546717), (4, 0.03638218)]),\n",
       "  (3245, [(0, 0.017873941), (3, 0.98000693)]),\n",
       "  (3363, [(0, 0.06411787), (2, 0.04790152), (3, 1.8578458), (4, 0.027629212)]),\n",
       "  (3550, [(0, 0.02408916), (3, 0.97547007)]),\n",
       "  (3781,\n",
       "   [(0, 0.1873236),\n",
       "    (1, 0.011462633),\n",
       "    (2, 0.010726909),\n",
       "    (3, 0.7565708),\n",
       "    (4, 0.029057808)]),\n",
       "  (4457, [(2, 1.1782776), (3, 0.73473674), (4, 0.08111655)]),\n",
       "  (4869, [(2, 0.056359164), (3, 0.19585116), (4, 0.74702984)]),\n",
       "  (6066, [(0, 0.25553015), (2, 0.28806335), (3, 0.45429152)]),\n",
       "  (6216, [(2, 0.715654), (3, 0.13184178), (4, 0.14963864)]),\n",
       "  (6896, [(0, 0.49303454), (2, 0.45986935), (4, 0.036663555)]),\n",
       "  (7419, [(0, 0.39151472), (2, 0.39704752), (3, 0.2073759)]),\n",
       "  (7886, [(0, 0.19906715), (2, 0.36417976), (3, 3.3333719), (4, 0.0995448)]),\n",
       "  (8331, [(0, 0.12397273), (2, 0.60660356), (3, 0.055915426), (4, 0.2056019)]),\n",
       "  (11180, [(0, 0.25323159), (2, 0.2531037), (3, 0.4164352), (4, 0.07544859)]),\n",
       "  (17146, [(0, 0.24910821), (3, 0.74860084)]),\n",
       "  (17190, [(2, 0.39411536), (3, 0.5982009)]),\n",
       "  (22956, [(0, 0.31911886), (3, 0.6665076)]),\n",
       "  (64688,\n",
       "   [(0, 0.11501473), (2, 0.32111606), (3, 0.6649137), (4, 0.025684131)]),\n",
       "  (142424,\n",
       "   [(0, 0.11409681), (2, 0.29945007), (3, 0.67014086), (4, 0.026145685)])])"
      ]
     },
     "execution_count": 67,
     "metadata": {},
     "output_type": "execute_result"
    }
   ],
   "source": [
    "# doublecheck\n",
    "toks = process_sentence(base_df[base_df['id'] == 'ex94w5'].processed_body.values[0])\n",
    "d2bow = id2word.doc2bow(toks)\n",
    "lda_model_5[d2bow]"
   ]
  },
  {
   "cell_type": "code",
   "execution_count": 54,
   "id": "43091904",
   "metadata": {},
   "outputs": [],
   "source": [
    "topic_df_5.to_csv('aita_topics_5.csv', sep='\\t', encoding='utf-8')"
   ]
  },
  {
   "cell_type": "code",
   "execution_count": 68,
   "id": "63bb6633",
   "metadata": {},
   "outputs": [],
   "source": [
    "lda_model_5.save('topic_lda_model_5')\n",
    "# lda_model_5_prime = models.ldamodel.LdaModel.load(temp_file)"
   ]
  }
 ],
 "metadata": {
  "kernelspec": {
   "display_name": "Python 3 (ipykernel)",
   "language": "python",
   "name": "python3"
  },
  "language_info": {
   "codemirror_mode": {
    "name": "ipython",
    "version": 3
   },
   "file_extension": ".py",
   "mimetype": "text/x-python",
   "name": "python",
   "nbconvert_exporter": "python",
   "pygments_lexer": "ipython3",
   "version": "3.8.10"
  }
 },
 "nbformat": 4,
 "nbformat_minor": 5
}
