{
 "cells": [
  {
   "cell_type": "code",
   "execution_count": 1,
   "metadata": {},
   "outputs": [],
   "source": [
    "%load_ext autoreload\n",
    "%config Completer.use_jedi = False\n",
    "%autoreload 2\n",
    "from preprocess import *"
   ]
  },
  {
   "cell_type": "code",
   "execution_count": 2,
   "metadata": {},
   "outputs": [],
   "source": [
    "base_df = get_basic_stemmed_and_lemmatized_df(ngram_start=1, ngram_end=3)"
   ]
  },
  {
   "cell_type": "code",
   "execution_count": 14,
   "metadata": {},
   "outputs": [],
   "source": [
    "base_df.drop(\"processed_body_split\", axis=1).to_csv('aita_preprocessed.csv', sep='\\t', encoding='utf-8')"
   ]
  },
  {
   "cell_type": "code",
   "execution_count": 12,
   "metadata": {},
   "outputs": [
    {
     "name": "stdout",
     "output_type": "stream",
     "text": [
      "[AITA] Threw my parent's donuts away\n",
      "[AITA] Threw my parent's donuts awayMy parents are diabetic, morbidly obese, and addicted to food. \n",
      "\n",
      "I'm the same, minus the diabetes. I've been trying for a while to eat healthily and lose weight. So have they, but yet every time they go to the store, they bring home junk food. \n",
      "\n",
      "I understand that it's hard for them, but it's also hard to stay on track with my healthier lifestyle when there's junk food all around me. Plus, they're getting older, so it is crucial for them to get healthy now.\n",
      "\n",
      "\n",
      "A few weeks ago, they brought home 4 bags of donuts, and I emptied each pack into the trash. Am I an asshole for this?\n",
      "\n",
      "**Edit:** I love all the responses. Got one \"no\", one \"maybe\", and one \"yes\". I agree with all of you.\n",
      "\n",
      "**\n",
      "[ aita ] threw my parent 's donut awaymy parent diabetic , morbidly obese , addicted food . i 'm , minus diabetes . i 've trying eat healthily lose weight . they , yet every time they go store , they bring home junk food . i understand it 's hard them , it 's also hard stay track my healthier lifestyle 's junk food around me . plus , they  are getting older , it crucial them get healthy . week ago , they brought home 4 bag donut , i emptied pack trash . i asshole ? * * edit : * * i love response . got one `` '' , one `` maybe '' , one `` yes '' . i agree you . * *\n",
      "1393290576.0\n"
     ]
    }
   ],
   "source": [
    "i = 0\n",
    "print(base_df['title'][i])\n",
    "print(base_df['body'][i])\n",
    "print(base_df['processed_body'][i])\n",
    "print(base_df['edited'][i])"
   ]
  },
  {
   "cell_type": "code",
   "execution_count": 7,
   "metadata": {},
   "outputs": [],
   "source": [
    "base_df[base_df['num_words'] > 50].to_csv('aita_preprocessed_gt_50_words.csv', sep='\\t', encoding='utf-8')"
   ]
  },
  {
   "cell_type": "code",
   "execution_count": 8,
   "metadata": {},
   "outputs": [],
   "source": [
    "base_df[base_df['num_words'] > 100].to_csv('aita_preprocessed_gt_100_words.csv', sep='\\t', encoding='utf-8')"
   ]
  },
  {
   "cell_type": "code",
   "execution_count": 9,
   "metadata": {},
   "outputs": [],
   "source": [
    "base_df[base_df['num_words'] < 50].to_csv('aita_preprocessed_lt_50_words.csv', sep='\\t', encoding='utf-8')"
   ]
  },
  {
   "cell_type": "code",
   "execution_count": 33,
   "metadata": {},
   "outputs": [],
   "source": [
    "base_df[base_df['edited'] == 'False'].drop('edited', axis=1).to_csv('aita_preprocessed_only_unedited.csv', sep='\\t', encoding='utf-8')"
   ]
  },
  {
   "cell_type": "code",
   "execution_count": 31,
   "metadata": {},
   "outputs": [],
   "source": [
    "base_df[base_df['edited'] == 'False'].query('num_words > 50').drop('edited', axis=1).to_csv('aita_preprocessed_only_unedited_gt_50.csv', sep='\\t', encoding='utf-8')"
   ]
  },
  {
   "cell_type": "code",
   "execution_count": 32,
   "metadata": {},
   "outputs": [],
   "source": [
    "base_df[base_df['edited'] == 'False'].query('num_words > 100').drop('edited', axis=1).to_csv('aita_preprocessed_only_unedited_gt_100.csv', sep='\\t', encoding='utf-8')"
   ]
  }
 ],
 "metadata": {
  "kernelspec": {
   "display_name": "Python 3 (ipykernel)",
   "language": "python",
   "name": "python3"
  },
  "language_info": {
   "codemirror_mode": {
    "name": "ipython",
    "version": 3
   },
   "file_extension": ".py",
   "mimetype": "text/x-python",
   "name": "python",
   "nbconvert_exporter": "python",
   "pygments_lexer": "ipython3",
   "version": "3.8.10"
  }
 },
 "nbformat": 4,
 "nbformat_minor": 2
}
