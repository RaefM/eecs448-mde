{
 "cells": [
  {
   "cell_type": "code",
   "execution_count": 1,
   "id": "c57d01a6",
   "metadata": {},
   "outputs": [],
   "source": [
    "%load_ext autoreload\n",
    "%autoreload 2\n",
    "\n",
    "import pickle\n",
    "import scipy.sparse\n",
    "import pandas as pd\n",
    "import numpy as np\n",
    "from sklearn.model_selection import train_test_split\n",
    "from nltk.tokenize import word_tokenize\n",
    "from sklearn.naive_bayes import ComplementNB, GaussianNB, MultinomialNB\n",
    "from sklearn.feature_extraction.text import CountVectorizer\n",
    "from sklearn.metrics import balanced_accuracy_score"
   ]
  },
  {
   "cell_type": "code",
   "execution_count": 5,
   "id": "f1b29b5c",
   "metadata": {},
   "outputs": [],
   "source": [
    "aita_raw_df = pd.read_csv('aita_preprocessed.csv', sep='\\t', usecols=[ \"processed_body\", \"is_asshole\"])"
   ]
  },
  {
   "cell_type": "code",
   "execution_count": 6,
   "id": "d9b3bc08",
   "metadata": {},
   "outputs": [
    {
     "name": "stdout",
     "output_type": "stream",
     "text": [
      "aita going my phone muchmy wife talked me today i would like confirm i asshole . my wife mentioned past i go my phone much . i problem taken step reduce my time phone . work every day i talk my wife distraction hour hour half . we watching family guy rerun something require my attention i go my phone bit , usually half hour hour . alternative pc game my wife get bored i go my computer downstairs . problem she try start conversation time i usually distracted . i tried telling her i need sort game play little bit destress she expects me drop it soon she start talking . i play hearthstone really possible without throwing away entire match . i feel like i sure i allowed my phone . i feel like my compromise stay my phone work enough i allowed me time , she feel she coming second phone unloved . i asshole ? i put my phone side every night make her happy ?\n",
      "0\n"
     ]
    }
   ],
   "source": [
    "X_train, X_test, y_train, y_test = train_test_split(\n",
    "    aita_raw_df.processed_body.values, \n",
    "    aita_raw_df.is_asshole.values,\n",
    "    stratify = aita_raw_df.is_asshole.values,\n",
    "    test_size = 0.2, \n",
    "    random_state = 448\n",
    ")\n",
    "print(X_train[0])\n",
    "print(y_train[0])"
   ]
  },
  {
   "cell_type": "code",
   "execution_count": null,
   "id": "f70bba18",
   "metadata": {},
   "outputs": [],
   "source": [
    "vectorizer = CountVectorizer(lowercase=True, min_df=0.01, max_df=0.8, ngram_range=(1,3))\n",
    "X_train_counts = vectorizer.fit_transform(X_train)\n",
    "X_test_counts = vectorizer.transform(X_test)"
   ]
  },
  {
   "cell_type": "code",
   "execution_count": null,
   "id": "cc9f8019",
   "metadata": {},
   "outputs": [],
   "source": [
    "clf_comp = ComplementNB(alpha=1e-5)\n",
    "clf_comp.fit(X_train_counts, y_train)\n",
    "y_pred_comp = clf_comp.predict(X_test_counts)\n",
    "test_score_comp = balanced_accuracy_score(y_test, y_pred_comp)\n",
    "test_score_comp"
   ]
  }
 ],
 "metadata": {
  "kernelspec": {
   "display_name": "Python 3 (ipykernel)",
   "language": "python",
   "name": "python3"
  },
  "language_info": {
   "codemirror_mode": {
    "name": "ipython",
    "version": 3
   },
   "file_extension": ".py",
   "mimetype": "text/x-python",
   "name": "python",
   "nbconvert_exporter": "python",
   "pygments_lexer": "ipython3",
   "version": "3.8.10"
  }
 },
 "nbformat": 4,
 "nbformat_minor": 5
}
