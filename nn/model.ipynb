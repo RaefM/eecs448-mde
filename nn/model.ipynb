{
 "cells": [
  {
   "cell_type": "code",
   "execution_count": null,
   "id": "c8kqZx1t9fsB",
   "metadata": {
    "colab": {
     "base_uri": "https://localhost:8080/"
    },
    "executionInfo": {
     "elapsed": 23472,
     "status": "ok",
     "timestamp": 1680092527333,
     "user": {
      "displayName": "Raef Maroof",
      "userId": "03436591939307069191"
     },
     "user_tz": 240
    },
    "id": "c8kqZx1t9fsB",
    "outputId": "f098fe9d-b97c-498e-dc3f-ca5cfc8e4e86"
   },
   "outputs": [
    {
     "name": "stdout",
     "output_type": "stream",
     "text": [
      "Mounted at /content/drive\n"
     ]
    }
   ],
   "source": [
    "from google.colab import drive\n",
    "drive.mount('/content/drive')"
   ]
  },
  {
   "cell_type": "code",
   "execution_count": null,
   "id": "IHKyXE6t9i8I",
   "metadata": {
    "colab": {
     "base_uri": "https://localhost:8080/"
    },
    "executionInfo": {
     "elapsed": 2,
     "status": "ok",
     "timestamp": 1680092528864,
     "user": {
      "displayName": "Raef Maroof",
      "userId": "03436591939307069191"
     },
     "user_tz": 240
    },
    "id": "IHKyXE6t9i8I",
    "outputId": "84adc158-7452-4e8c-c197-9a51f5382801"
   },
   "outputs": [
    {
     "name": "stdout",
     "output_type": "stream",
     "text": [
      "['aita_clean.csv', 'glove300.kv', 'glove300.kv.vectors.npy', '__pycache__', 'aita_minimal_preprocess.csv', 'model.py', 'train.pt', 'dev.pt', 'model.ipynb']\n"
     ]
    }
   ],
   "source": [
    "import os\n",
    "import sys\n",
    "\n",
    "# TODO: change this to the path to your homework folder\n",
    "GOOGLE_DRIVE_PATH_AFTER_MYDRIVE = '445 project/'\n",
    "GOOGLE_DRIVE_PATH = os.path.join('drive', 'My Drive', GOOGLE_DRIVE_PATH_AFTER_MYDRIVE)\n",
    "print(os.listdir(GOOGLE_DRIVE_PATH))\n",
    "os.chdir(GOOGLE_DRIVE_PATH)"
   ]
  },
  {
   "cell_type": "code",
   "execution_count": 1,
   "id": "0b7b8ae5",
   "metadata": {
    "colab": {
     "base_uri": "https://localhost:8080/"
    },
    "executionInfo": {
     "elapsed": 6839,
     "status": "ok",
     "timestamp": 1680092538285,
     "user": {
      "displayName": "Raef Maroof",
      "userId": "03436591939307069191"
     },
     "user_tz": 240
    },
    "id": "0b7b8ae5",
    "outputId": "4fcce91e-9e34-406f-fc43-f549cb682809"
   },
   "outputs": [],
   "source": [
    "%load_ext autoreload\n",
    "%autoreload 2\n",
    "\n",
    "import pandas as pd\n",
    "import torch\n",
    "import nltk\n",
    "from model import *\n",
    "from torch.utils.data import DataLoader\n",
    "from sklearn.model_selection import train_test_split\n",
    "from nltk.tokenize import word_tokenize\n",
    "\n",
    "# nltk.download('punkt')"
   ]
  },
  {
   "cell_type": "code",
   "execution_count": 2,
   "id": "c43075d6",
   "metadata": {
    "colab": {
     "base_uri": "https://localhost:8080/",
     "height": 1000
    },
    "executionInfo": {
     "elapsed": 8757,
     "status": "ok",
     "timestamp": 1680092549307,
     "user": {
      "displayName": "Raef Maroof",
      "userId": "03436591939307069191"
     },
     "user_tz": 240
    },
    "id": "c43075d6",
    "outputId": "5861187c-0f54-4058-ea52-b807987df839"
   },
   "outputs": [
    {
     "data": {
      "text/html": [
       "<div>\n",
       "<style scoped>\n",
       "    .dataframe tbody tr th:only-of-type {\n",
       "        vertical-align: middle;\n",
       "    }\n",
       "\n",
       "    .dataframe tbody tr th {\n",
       "        vertical-align: top;\n",
       "    }\n",
       "\n",
       "    .dataframe thead th {\n",
       "        text-align: right;\n",
       "    }\n",
       "</style>\n",
       "<table border=\"1\" class=\"dataframe\">\n",
       "  <thead>\n",
       "    <tr style=\"text-align: right;\">\n",
       "      <th></th>\n",
       "      <th>Unnamed: 0</th>\n",
       "      <th>id</th>\n",
       "      <th>timestamp</th>\n",
       "      <th>title</th>\n",
       "      <th>body</th>\n",
       "      <th>edited</th>\n",
       "      <th>verdict</th>\n",
       "      <th>score</th>\n",
       "      <th>num_comments</th>\n",
       "      <th>is_asshole</th>\n",
       "      <th>post</th>\n",
       "      <th>length</th>\n",
       "    </tr>\n",
       "  </thead>\n",
       "  <tbody>\n",
       "    <tr>\n",
       "      <th>0</th>\n",
       "      <td>0</td>\n",
       "      <td>1ytxov</td>\n",
       "      <td>1.393279e+09</td>\n",
       "      <td>[AITA] I wrote an explanation in TIL and came ...</td>\n",
       "      <td>[Here is the post in question](http://www.redd...</td>\n",
       "      <td>False</td>\n",
       "      <td>asshole</td>\n",
       "      <td>52</td>\n",
       "      <td>13.0</td>\n",
       "      <td>1</td>\n",
       "      <td>[AITA] I wrote an explanation in TIL and came ...</td>\n",
       "      <td>106</td>\n",
       "    </tr>\n",
       "    <tr>\n",
       "      <th>1</th>\n",
       "      <td>1</td>\n",
       "      <td>1yu29c</td>\n",
       "      <td>1.393281e+09</td>\n",
       "      <td>[AITA] Threw my parent's donuts away</td>\n",
       "      <td>My parents are diabetic, morbidly obese, and a...</td>\n",
       "      <td>1393290576.0</td>\n",
       "      <td>asshole</td>\n",
       "      <td>140</td>\n",
       "      <td>27.0</td>\n",
       "      <td>1</td>\n",
       "      <td>[AITA] Threw my parent's donuts awayMy parents...</td>\n",
       "      <td>180</td>\n",
       "    </tr>\n",
       "    <tr>\n",
       "      <th>2</th>\n",
       "      <td>2</td>\n",
       "      <td>1yu8hi</td>\n",
       "      <td>1.393285e+09</td>\n",
       "      <td>I told a goth girl she looked like a clown.</td>\n",
       "      <td>I was four.</td>\n",
       "      <td>False</td>\n",
       "      <td>not the asshole</td>\n",
       "      <td>74</td>\n",
       "      <td>15.0</td>\n",
       "      <td>0</td>\n",
       "      <td>I told a goth girl she looked like a clown.I w...</td>\n",
       "      <td>13</td>\n",
       "    </tr>\n",
       "    <tr>\n",
       "      <th>3</th>\n",
       "      <td>3</td>\n",
       "      <td>1yuc78</td>\n",
       "      <td>1.393287e+09</td>\n",
       "      <td>[AItA]: Argument I had with another redditor i...</td>\n",
       "      <td>http://www.reddit.com/r/HIMYM/comments/1vvfkq/...</td>\n",
       "      <td>1393286962.0</td>\n",
       "      <td>everyone sucks</td>\n",
       "      <td>22</td>\n",
       "      <td>3.0</td>\n",
       "      <td>1</td>\n",
       "      <td>[AItA]: Argument I had with another redditor i...</td>\n",
       "      <td>21</td>\n",
       "    </tr>\n",
       "    <tr>\n",
       "      <th>4</th>\n",
       "      <td>4</td>\n",
       "      <td>1yueqb</td>\n",
       "      <td>1.393288e+09</td>\n",
       "      <td>[AITA] I let my story get a little long and bo...</td>\n",
       "      <td>NaN</td>\n",
       "      <td>False</td>\n",
       "      <td>not the asshole</td>\n",
       "      <td>6</td>\n",
       "      <td>4.0</td>\n",
       "      <td>0</td>\n",
       "      <td>[AITA] I let my story get a little long and bo...</td>\n",
       "      <td>25</td>\n",
       "    </tr>\n",
       "    <tr>\n",
       "      <th>...</th>\n",
       "      <td>...</td>\n",
       "      <td>...</td>\n",
       "      <td>...</td>\n",
       "      <td>...</td>\n",
       "      <td>...</td>\n",
       "      <td>...</td>\n",
       "      <td>...</td>\n",
       "      <td>...</td>\n",
       "      <td>...</td>\n",
       "      <td>...</td>\n",
       "      <td>...</td>\n",
       "      <td>...</td>\n",
       "    </tr>\n",
       "    <tr>\n",
       "      <th>97623</th>\n",
       "      <td>97623</td>\n",
       "      <td>ex94w5</td>\n",
       "      <td>1.580577e+09</td>\n",
       "      <td>AITA for telling my sister she is being a spoi...</td>\n",
       "      <td>My sister(17F) and I(15M) are white kids born ...</td>\n",
       "      <td>1580585457.0</td>\n",
       "      <td>not the asshole</td>\n",
       "      <td>16</td>\n",
       "      <td>23.0</td>\n",
       "      <td>0</td>\n",
       "      <td>AITA for telling my sister she is being a spoi...</td>\n",
       "      <td>170</td>\n",
       "    </tr>\n",
       "    <tr>\n",
       "      <th>97624</th>\n",
       "      <td>97624</td>\n",
       "      <td>ex970f</td>\n",
       "      <td>1.580577e+09</td>\n",
       "      <td>AITA for telling my husband to f* off after he...</td>\n",
       "      <td>My husband (28M) and I (32F) are married for a...</td>\n",
       "      <td>1580584475.0</td>\n",
       "      <td>not the asshole</td>\n",
       "      <td>1373</td>\n",
       "      <td>304.0</td>\n",
       "      <td>0</td>\n",
       "      <td>AITA for telling my husband to f* off after he...</td>\n",
       "      <td>545</td>\n",
       "    </tr>\n",
       "    <tr>\n",
       "      <th>97625</th>\n",
       "      <td>97625</td>\n",
       "      <td>ex9dwo</td>\n",
       "      <td>1.580578e+09</td>\n",
       "      <td>AITA for attempting to keep my students out of...</td>\n",
       "      <td>Upfront apologies for formatting. I’m also try...</td>\n",
       "      <td>False</td>\n",
       "      <td>not the asshole</td>\n",
       "      <td>4</td>\n",
       "      <td>15.0</td>\n",
       "      <td>0</td>\n",
       "      <td>AITA for attempting to keep my students out of...</td>\n",
       "      <td>419</td>\n",
       "    </tr>\n",
       "    <tr>\n",
       "      <th>97626</th>\n",
       "      <td>97626</td>\n",
       "      <td>ex9egs</td>\n",
       "      <td>1.580578e+09</td>\n",
       "      <td>WIBTA if I left my brothers fate up to the state?</td>\n",
       "      <td>A little back story my mom is a drug addict an...</td>\n",
       "      <td>False</td>\n",
       "      <td>not the asshole</td>\n",
       "      <td>280</td>\n",
       "      <td>140.0</td>\n",
       "      <td>0</td>\n",
       "      <td>WIBTA if I left my brothers fate up to the sta...</td>\n",
       "      <td>283</td>\n",
       "    </tr>\n",
       "    <tr>\n",
       "      <th>97627</th>\n",
       "      <td>97627</td>\n",
       "      <td>ex9g78</td>\n",
       "      <td>1.580578e+09</td>\n",
       "      <td>WIBTA for rocking the boat at work because my ...</td>\n",
       "      <td>I’m a (23F) apprentice in the trades. I work o...</td>\n",
       "      <td>False</td>\n",
       "      <td>not the asshole</td>\n",
       "      <td>5</td>\n",
       "      <td>21.0</td>\n",
       "      <td>0</td>\n",
       "      <td>WIBTA for rocking the boat at work because my ...</td>\n",
       "      <td>486</td>\n",
       "    </tr>\n",
       "  </tbody>\n",
       "</table>\n",
       "<p>97628 rows × 12 columns</p>\n",
       "</div>"
      ],
      "text/plain": [
       "       Unnamed: 0      id     timestamp  \\\n",
       "0               0  1ytxov  1.393279e+09   \n",
       "1               1  1yu29c  1.393281e+09   \n",
       "2               2  1yu8hi  1.393285e+09   \n",
       "3               3  1yuc78  1.393287e+09   \n",
       "4               4  1yueqb  1.393288e+09   \n",
       "...           ...     ...           ...   \n",
       "97623       97623  ex94w5  1.580577e+09   \n",
       "97624       97624  ex970f  1.580577e+09   \n",
       "97625       97625  ex9dwo  1.580578e+09   \n",
       "97626       97626  ex9egs  1.580578e+09   \n",
       "97627       97627  ex9g78  1.580578e+09   \n",
       "\n",
       "                                                   title  \\\n",
       "0      [AITA] I wrote an explanation in TIL and came ...   \n",
       "1                   [AITA] Threw my parent's donuts away   \n",
       "2            I told a goth girl she looked like a clown.   \n",
       "3      [AItA]: Argument I had with another redditor i...   \n",
       "4      [AITA] I let my story get a little long and bo...   \n",
       "...                                                  ...   \n",
       "97623  AITA for telling my sister she is being a spoi...   \n",
       "97624  AITA for telling my husband to f* off after he...   \n",
       "97625  AITA for attempting to keep my students out of...   \n",
       "97626  WIBTA if I left my brothers fate up to the state?   \n",
       "97627  WIBTA for rocking the boat at work because my ...   \n",
       "\n",
       "                                                    body        edited  \\\n",
       "0      [Here is the post in question](http://www.redd...         False   \n",
       "1      My parents are diabetic, morbidly obese, and a...  1393290576.0   \n",
       "2                                            I was four.         False   \n",
       "3      http://www.reddit.com/r/HIMYM/comments/1vvfkq/...  1393286962.0   \n",
       "4                                                    NaN         False   \n",
       "...                                                  ...           ...   \n",
       "97623  My sister(17F) and I(15M) are white kids born ...  1580585457.0   \n",
       "97624  My husband (28M) and I (32F) are married for a...  1580584475.0   \n",
       "97625  Upfront apologies for formatting. I’m also try...         False   \n",
       "97626  A little back story my mom is a drug addict an...         False   \n",
       "97627  I’m a (23F) apprentice in the trades. I work o...         False   \n",
       "\n",
       "               verdict  score  num_comments  is_asshole  \\\n",
       "0              asshole     52          13.0           1   \n",
       "1              asshole    140          27.0           1   \n",
       "2      not the asshole     74          15.0           0   \n",
       "3       everyone sucks     22           3.0           1   \n",
       "4      not the asshole      6           4.0           0   \n",
       "...                ...    ...           ...         ...   \n",
       "97623  not the asshole     16          23.0           0   \n",
       "97624  not the asshole   1373         304.0           0   \n",
       "97625  not the asshole      4          15.0           0   \n",
       "97626  not the asshole    280         140.0           0   \n",
       "97627  not the asshole      5          21.0           0   \n",
       "\n",
       "                                                    post  length  \n",
       "0      [AITA] I wrote an explanation in TIL and came ...     106  \n",
       "1      [AITA] Threw my parent's donuts awayMy parents...     180  \n",
       "2      I told a goth girl she looked like a clown.I w...      13  \n",
       "3      [AItA]: Argument I had with another redditor i...      21  \n",
       "4      [AITA] I let my story get a little long and bo...      25  \n",
       "...                                                  ...     ...  \n",
       "97623  AITA for telling my sister she is being a spoi...     170  \n",
       "97624  AITA for telling my husband to f* off after he...     545  \n",
       "97625  AITA for attempting to keep my students out of...     419  \n",
       "97626  WIBTA if I left my brothers fate up to the sta...     283  \n",
       "97627  WIBTA for rocking the boat at work because my ...     486  \n",
       "\n",
       "[97628 rows x 12 columns]"
      ]
     },
     "execution_count": 2,
     "metadata": {},
     "output_type": "execute_result"
    }
   ],
   "source": [
    "aita_raw_df = pd.read_csv('aita_minimal_preprocess.csv')\n",
    "aita_raw_df"
   ]
  },
  {
   "cell_type": "code",
   "execution_count": null,
   "id": "slKHIpIDA0lB",
   "metadata": {
    "colab": {
     "base_uri": "https://localhost:8080/",
     "height": 1000
    },
    "executionInfo": {
     "elapsed": 5,
     "status": "ok",
     "timestamp": 1680090254512,
     "user": {
      "displayName": "Raef Maroof",
      "userId": "03436591939307069191"
     },
     "user_tz": 240
    },
    "id": "slKHIpIDA0lB",
    "outputId": "c7f6d1cb-83bd-4608-d0d3-cff0c6400f24"
   },
   "outputs": [
    {
     "name": "stderr",
     "output_type": "stream",
     "text": [
      "<ipython-input-26-32420687d0c3>:1: UserWarning: Boolean Series key will be reindexed to match DataFrame index.\n",
      "  aita_gt500 = aita_raw_df.loc[aita_raw_df[\"length\"] > 500][aita_raw_df[\"length\"] < 1000]\n"
     ]
    },
    {
     "data": {
      "text/html": [
       "\n",
       "  <div id=\"df-f1a7d3ac-5ad9-4e09-a09b-784c4cbf8e2f\">\n",
       "    <div class=\"colab-df-container\">\n",
       "      <div>\n",
       "<style scoped>\n",
       "    .dataframe tbody tr th:only-of-type {\n",
       "        vertical-align: middle;\n",
       "    }\n",
       "\n",
       "    .dataframe tbody tr th {\n",
       "        vertical-align: top;\n",
       "    }\n",
       "\n",
       "    .dataframe thead th {\n",
       "        text-align: right;\n",
       "    }\n",
       "</style>\n",
       "<table border=\"1\" class=\"dataframe\">\n",
       "  <thead>\n",
       "    <tr style=\"text-align: right;\">\n",
       "      <th></th>\n",
       "      <th>Unnamed: 0</th>\n",
       "      <th>id</th>\n",
       "      <th>timestamp</th>\n",
       "      <th>title</th>\n",
       "      <th>body</th>\n",
       "      <th>edited</th>\n",
       "      <th>verdict</th>\n",
       "      <th>score</th>\n",
       "      <th>num_comments</th>\n",
       "      <th>is_asshole</th>\n",
       "      <th>post</th>\n",
       "      <th>length</th>\n",
       "    </tr>\n",
       "  </thead>\n",
       "  <tbody>\n",
       "    <tr>\n",
       "      <th>7</th>\n",
       "      <td>7</td>\n",
       "      <td>1yvb3n</td>\n",
       "      <td>1.393307e+09</td>\n",
       "      <td>[AITA] My roommate has many undesirable qualit...</td>\n",
       "      <td>I'm a college student. My first roommate dropp...</td>\n",
       "      <td>False</td>\n",
       "      <td>asshole</td>\n",
       "      <td>3</td>\n",
       "      <td>4.0</td>\n",
       "      <td>1</td>\n",
       "      <td>[AITA] My roommate has many undesirable qualit...</td>\n",
       "      <td>692</td>\n",
       "    </tr>\n",
       "    <tr>\n",
       "      <th>13</th>\n",
       "      <td>13</td>\n",
       "      <td>1yxnp3</td>\n",
       "      <td>1.393369e+09</td>\n",
       "      <td>Argument with a friend via text message (may b...</td>\n",
       "      <td>I'm likely going to get some flak for arguing ...</td>\n",
       "      <td>False</td>\n",
       "      <td>everyone sucks</td>\n",
       "      <td>9</td>\n",
       "      <td>31.0</td>\n",
       "      <td>1</td>\n",
       "      <td>Argument with a friend via text message (may b...</td>\n",
       "      <td>806</td>\n",
       "    </tr>\n",
       "    <tr>\n",
       "      <th>20</th>\n",
       "      <td>20</td>\n",
       "      <td>1z313z</td>\n",
       "      <td>1.393508e+09</td>\n",
       "      <td>Standing up at a John Mayer concert</td>\n",
       "      <td>Hi /r/AmITheAsshole! I just heard this communi...</td>\n",
       "      <td>False</td>\n",
       "      <td>not the asshole</td>\n",
       "      <td>18</td>\n",
       "      <td>17.0</td>\n",
       "      <td>0</td>\n",
       "      <td>Standing up at a John Mayer concertHi /r/AmITh...</td>\n",
       "      <td>577</td>\n",
       "    </tr>\n",
       "    <tr>\n",
       "      <th>29</th>\n",
       "      <td>29</td>\n",
       "      <td>20siao</td>\n",
       "      <td>1.395210e+09</td>\n",
       "      <td>AITA for not being appreciative enough of the ...</td>\n",
       "      <td>Recently I spent a good amount of time traveli...</td>\n",
       "      <td>False</td>\n",
       "      <td>not the asshole</td>\n",
       "      <td>4</td>\n",
       "      <td>11.0</td>\n",
       "      <td>0</td>\n",
       "      <td>AITA for not being appreciative enough of the ...</td>\n",
       "      <td>741</td>\n",
       "    </tr>\n",
       "    <tr>\n",
       "      <th>31</th>\n",
       "      <td>31</td>\n",
       "      <td>20ydkp</td>\n",
       "      <td>1.395363e+09</td>\n",
       "      <td>[AITA] Just barely avoided a fender-bender in ...</td>\n",
       "      <td>So, I live in a college neighborhood. I was ju...</td>\n",
       "      <td>False</td>\n",
       "      <td>not the asshole</td>\n",
       "      <td>17</td>\n",
       "      <td>18.0</td>\n",
       "      <td>0</td>\n",
       "      <td>[AITA] Just barely avoided a fender-bender in ...</td>\n",
       "      <td>634</td>\n",
       "    </tr>\n",
       "    <tr>\n",
       "      <th>...</th>\n",
       "      <td>...</td>\n",
       "      <td>...</td>\n",
       "      <td>...</td>\n",
       "      <td>...</td>\n",
       "      <td>...</td>\n",
       "      <td>...</td>\n",
       "      <td>...</td>\n",
       "      <td>...</td>\n",
       "      <td>...</td>\n",
       "      <td>...</td>\n",
       "      <td>...</td>\n",
       "      <td>...</td>\n",
       "    </tr>\n",
       "    <tr>\n",
       "      <th>97610</th>\n",
       "      <td>97610</td>\n",
       "      <td>ex8bjp</td>\n",
       "      <td>1.580574e+09</td>\n",
       "      <td>AITA for making my step mom buy me new Tupperw...</td>\n",
       "      <td>So, my dads house caught on fire about a month...</td>\n",
       "      <td>1580614636.0</td>\n",
       "      <td>not the asshole</td>\n",
       "      <td>143</td>\n",
       "      <td>123.0</td>\n",
       "      <td>0</td>\n",
       "      <td>AITA for making my step mom buy me new Tupperw...</td>\n",
       "      <td>918</td>\n",
       "    </tr>\n",
       "    <tr>\n",
       "      <th>97614</th>\n",
       "      <td>97614</td>\n",
       "      <td>ex8hnd</td>\n",
       "      <td>1.580574e+09</td>\n",
       "      <td>AITA for not wanting to reconcile with one of ...</td>\n",
       "      <td>I have maintained the same friend group since ...</td>\n",
       "      <td>False</td>\n",
       "      <td>not the asshole</td>\n",
       "      <td>10</td>\n",
       "      <td>12.0</td>\n",
       "      <td>0</td>\n",
       "      <td>AITA for not wanting to reconcile with one of ...</td>\n",
       "      <td>665</td>\n",
       "    </tr>\n",
       "    <tr>\n",
       "      <th>97619</th>\n",
       "      <td>97619</td>\n",
       "      <td>ex8su3</td>\n",
       "      <td>1.580576e+09</td>\n",
       "      <td>AITA for knocking on my neighbours' wall?</td>\n",
       "      <td>Hi. I (24M) had new neighbours a bit more tha...</td>\n",
       "      <td>False</td>\n",
       "      <td>not the asshole</td>\n",
       "      <td>4</td>\n",
       "      <td>17.0</td>\n",
       "      <td>0</td>\n",
       "      <td>AITA for knocking on my neighbours' wall? Hi. ...</td>\n",
       "      <td>677</td>\n",
       "    </tr>\n",
       "    <tr>\n",
       "      <th>97622</th>\n",
       "      <td>97622</td>\n",
       "      <td>ex8ywl</td>\n",
       "      <td>1.580576e+09</td>\n",
       "      <td>AITA for giving my brother my Air Force Ribbon?</td>\n",
       "      <td>Yo.\\n\\nSo, I am pretty well off (upper middle ...</td>\n",
       "      <td>False</td>\n",
       "      <td>not the asshole</td>\n",
       "      <td>3</td>\n",
       "      <td>44.0</td>\n",
       "      <td>0</td>\n",
       "      <td>AITA for giving my brother my Air Force Ribbon...</td>\n",
       "      <td>584</td>\n",
       "    </tr>\n",
       "    <tr>\n",
       "      <th>97624</th>\n",
       "      <td>97624</td>\n",
       "      <td>ex970f</td>\n",
       "      <td>1.580577e+09</td>\n",
       "      <td>AITA for telling my husband to f* off after he...</td>\n",
       "      <td>My husband (28M) and I (32F) are married for a...</td>\n",
       "      <td>1580584475.0</td>\n",
       "      <td>not the asshole</td>\n",
       "      <td>1373</td>\n",
       "      <td>304.0</td>\n",
       "      <td>0</td>\n",
       "      <td>AITA for telling my husband to f* off after he...</td>\n",
       "      <td>545</td>\n",
       "    </tr>\n",
       "  </tbody>\n",
       "</table>\n",
       "<p>27686 rows × 12 columns</p>\n",
       "</div>\n",
       "      <button class=\"colab-df-convert\" onclick=\"convertToInteractive('df-f1a7d3ac-5ad9-4e09-a09b-784c4cbf8e2f')\"\n",
       "              title=\"Convert this dataframe to an interactive table.\"\n",
       "              style=\"display:none;\">\n",
       "        \n",
       "  <svg xmlns=\"http://www.w3.org/2000/svg\" height=\"24px\"viewBox=\"0 0 24 24\"\n",
       "       width=\"24px\">\n",
       "    <path d=\"M0 0h24v24H0V0z\" fill=\"none\"/>\n",
       "    <path d=\"M18.56 5.44l.94 2.06.94-2.06 2.06-.94-2.06-.94-.94-2.06-.94 2.06-2.06.94zm-11 1L8.5 8.5l.94-2.06 2.06-.94-2.06-.94L8.5 2.5l-.94 2.06-2.06.94zm10 10l.94 2.06.94-2.06 2.06-.94-2.06-.94-.94-2.06-.94 2.06-2.06.94z\"/><path d=\"M17.41 7.96l-1.37-1.37c-.4-.4-.92-.59-1.43-.59-.52 0-1.04.2-1.43.59L10.3 9.45l-7.72 7.72c-.78.78-.78 2.05 0 2.83L4 21.41c.39.39.9.59 1.41.59.51 0 1.02-.2 1.41-.59l7.78-7.78 2.81-2.81c.8-.78.8-2.07 0-2.86zM5.41 20L4 18.59l7.72-7.72 1.47 1.35L5.41 20z\"/>\n",
       "  </svg>\n",
       "      </button>\n",
       "      \n",
       "  <style>\n",
       "    .colab-df-container {\n",
       "      display:flex;\n",
       "      flex-wrap:wrap;\n",
       "      gap: 12px;\n",
       "    }\n",
       "\n",
       "    .colab-df-convert {\n",
       "      background-color: #E8F0FE;\n",
       "      border: none;\n",
       "      border-radius: 50%;\n",
       "      cursor: pointer;\n",
       "      display: none;\n",
       "      fill: #1967D2;\n",
       "      height: 32px;\n",
       "      padding: 0 0 0 0;\n",
       "      width: 32px;\n",
       "    }\n",
       "\n",
       "    .colab-df-convert:hover {\n",
       "      background-color: #E2EBFA;\n",
       "      box-shadow: 0px 1px 2px rgba(60, 64, 67, 0.3), 0px 1px 3px 1px rgba(60, 64, 67, 0.15);\n",
       "      fill: #174EA6;\n",
       "    }\n",
       "\n",
       "    [theme=dark] .colab-df-convert {\n",
       "      background-color: #3B4455;\n",
       "      fill: #D2E3FC;\n",
       "    }\n",
       "\n",
       "    [theme=dark] .colab-df-convert:hover {\n",
       "      background-color: #434B5C;\n",
       "      box-shadow: 0px 1px 3px 1px rgba(0, 0, 0, 0.15);\n",
       "      filter: drop-shadow(0px 1px 2px rgba(0, 0, 0, 0.3));\n",
       "      fill: #FFFFFF;\n",
       "    }\n",
       "  </style>\n",
       "\n",
       "      <script>\n",
       "        const buttonEl =\n",
       "          document.querySelector('#df-f1a7d3ac-5ad9-4e09-a09b-784c4cbf8e2f button.colab-df-convert');\n",
       "        buttonEl.style.display =\n",
       "          google.colab.kernel.accessAllowed ? 'block' : 'none';\n",
       "\n",
       "        async function convertToInteractive(key) {\n",
       "          const element = document.querySelector('#df-f1a7d3ac-5ad9-4e09-a09b-784c4cbf8e2f');\n",
       "          const dataTable =\n",
       "            await google.colab.kernel.invokeFunction('convertToInteractive',\n",
       "                                                     [key], {});\n",
       "          if (!dataTable) return;\n",
       "\n",
       "          const docLinkHtml = 'Like what you see? Visit the ' +\n",
       "            '<a target=\"_blank\" href=https://colab.research.google.com/notebooks/data_table.ipynb>data table notebook</a>'\n",
       "            + ' to learn more about interactive tables.';\n",
       "          element.innerHTML = '';\n",
       "          dataTable['output_type'] = 'display_data';\n",
       "          await google.colab.output.renderOutput(dataTable, element);\n",
       "          const docLink = document.createElement('div');\n",
       "          docLink.innerHTML = docLinkHtml;\n",
       "          element.appendChild(docLink);\n",
       "        }\n",
       "      </script>\n",
       "    </div>\n",
       "  </div>\n",
       "  "
      ],
      "text/plain": [
       "       Unnamed: 0      id     timestamp  \\\n",
       "7               7  1yvb3n  1.393307e+09   \n",
       "13             13  1yxnp3  1.393369e+09   \n",
       "20             20  1z313z  1.393508e+09   \n",
       "29             29  20siao  1.395210e+09   \n",
       "31             31  20ydkp  1.395363e+09   \n",
       "...           ...     ...           ...   \n",
       "97610       97610  ex8bjp  1.580574e+09   \n",
       "97614       97614  ex8hnd  1.580574e+09   \n",
       "97619       97619  ex8su3  1.580576e+09   \n",
       "97622       97622  ex8ywl  1.580576e+09   \n",
       "97624       97624  ex970f  1.580577e+09   \n",
       "\n",
       "                                                   title  \\\n",
       "7      [AITA] My roommate has many undesirable qualit...   \n",
       "13     Argument with a friend via text message (may b...   \n",
       "20                   Standing up at a John Mayer concert   \n",
       "29     AITA for not being appreciative enough of the ...   \n",
       "31     [AITA] Just barely avoided a fender-bender in ...   \n",
       "...                                                  ...   \n",
       "97610  AITA for making my step mom buy me new Tupperw...   \n",
       "97614  AITA for not wanting to reconcile with one of ...   \n",
       "97619          AITA for knocking on my neighbours' wall?   \n",
       "97622    AITA for giving my brother my Air Force Ribbon?   \n",
       "97624  AITA for telling my husband to f* off after he...   \n",
       "\n",
       "                                                    body        edited  \\\n",
       "7      I'm a college student. My first roommate dropp...         False   \n",
       "13     I'm likely going to get some flak for arguing ...         False   \n",
       "20     Hi /r/AmITheAsshole! I just heard this communi...         False   \n",
       "29     Recently I spent a good amount of time traveli...         False   \n",
       "31     So, I live in a college neighborhood. I was ju...         False   \n",
       "...                                                  ...           ...   \n",
       "97610  So, my dads house caught on fire about a month...  1580614636.0   \n",
       "97614  I have maintained the same friend group since ...         False   \n",
       "97619   Hi. I (24M) had new neighbours a bit more tha...         False   \n",
       "97622  Yo.\\n\\nSo, I am pretty well off (upper middle ...         False   \n",
       "97624  My husband (28M) and I (32F) are married for a...  1580584475.0   \n",
       "\n",
       "               verdict  score  num_comments  is_asshole  \\\n",
       "7              asshole      3           4.0           1   \n",
       "13      everyone sucks      9          31.0           1   \n",
       "20     not the asshole     18          17.0           0   \n",
       "29     not the asshole      4          11.0           0   \n",
       "31     not the asshole     17          18.0           0   \n",
       "...                ...    ...           ...         ...   \n",
       "97610  not the asshole    143         123.0           0   \n",
       "97614  not the asshole     10          12.0           0   \n",
       "97619  not the asshole      4          17.0           0   \n",
       "97622  not the asshole      3          44.0           0   \n",
       "97624  not the asshole   1373         304.0           0   \n",
       "\n",
       "                                                    post  length  \n",
       "7      [AITA] My roommate has many undesirable qualit...     692  \n",
       "13     Argument with a friend via text message (may b...     806  \n",
       "20     Standing up at a John Mayer concertHi /r/AmITh...     577  \n",
       "29     AITA for not being appreciative enough of the ...     741  \n",
       "31     [AITA] Just barely avoided a fender-bender in ...     634  \n",
       "...                                                  ...     ...  \n",
       "97610  AITA for making my step mom buy me new Tupperw...     918  \n",
       "97614  AITA for not wanting to reconcile with one of ...     665  \n",
       "97619  AITA for knocking on my neighbours' wall? Hi. ...     677  \n",
       "97622  AITA for giving my brother my Air Force Ribbon...     584  \n",
       "97624  AITA for telling my husband to f* off after he...     545  \n",
       "\n",
       "[27686 rows x 12 columns]"
      ]
     },
     "execution_count": 26,
     "metadata": {},
     "output_type": "execute_result"
    }
   ],
   "source": [
    "aita_gt500 = aita_raw_df.loc[aita_raw_df[\"length\"] > 500][aita_raw_df[\"length\"] < 1000]\n",
    "aita_gt500"
   ]
  },
  {
   "cell_type": "code",
   "execution_count": 14,
   "id": "GZSgxh9ICoOq",
   "metadata": {
    "colab": {
     "base_uri": "https://localhost:8080/"
    },
    "executionInfo": {
     "elapsed": 612,
     "status": "ok",
     "timestamp": 1680090286493,
     "user": {
      "displayName": "Raef Maroof",
      "userId": "03436591939307069191"
     },
     "user_tz": 240
    },
    "id": "GZSgxh9ICoOq",
    "outputId": "0ec73926-a713-4d55-b5f2-474e018c2de0"
   },
   "outputs": [
    {
     "data": {
      "text/plain": [
       "0    71117\n",
       "1    26511\n",
       "Name: is_asshole, dtype: int64"
      ]
     },
     "execution_count": 14,
     "metadata": {},
     "output_type": "execute_result"
    }
   ],
   "source": [
    "aita_raw_df['is_asshole'].value_counts()"
   ]
  },
  {
   "cell_type": "code",
   "execution_count": 15,
   "id": "0ef07512",
   "metadata": {
    "colab": {
     "base_uri": "https://localhost:8080/"
    },
    "executionInfo": {
     "elapsed": 133,
     "status": "ok",
     "timestamp": 1680092561987,
     "user": {
      "displayName": "Raef Maroof",
      "userId": "03436591939307069191"
     },
     "user_tz": 240
    },
    "id": "0ef07512",
    "outputId": "861951d0-e283-4ed9-94df-cba8e466aacd"
   },
   "outputs": [
    {
     "name": "stdout",
     "output_type": "stream",
     "text": [
      "AITA for wanting to dump a girl after finding out she has an STD?So I (32m) started dating a new girl (26f) after a disgusting horrible divorce from my wife who I’ve been with for like 15 years.. \n",
      "\n",
      "So I was super patent and deliberate in choosing a girl to date, turning down lots of others over the last year or so of separation... Then I met this girl and she is like EVERYTHING I want in a woman, and I could really see myself having a long-term relationship with her. \n",
      "\n",
      "We took things slow and waited about a month to have sex, just fooling around and doing other stuff. Then when the time came she stopped me right before and told me she had been living with herpes since the age of 19.. She was very mature and responsible and understanding and said she’d give me time to think about it, but...TBH I’m fucking freaking out. I’m terrified that this could affect me and my life forever if I end up being with her.\n",
      "\n",
      "I basically told her all of this, and broke up with her. I said that I couldn’t risk my health or well being and that I’ve been through too much to not give myself every chance at happiness. She says I’m being immature and I’m an asshole and insists that it’s really no big deal.\n",
      "\n",
      "So, am I being an asshole?? I sure feel like one... But at this point in my life and with a daughter who I basically raise alone I need to be selfish with my time and my life. Has anyone been in a similar situation? What are my options? Help me out Reddit, I’m feeling pretty f’ed up over this...\n",
      "0\n"
     ]
    }
   ],
   "source": [
    "X_train, X_test, y_train, y_test = train_test_split(\n",
    "    aita_raw_df.post.values, \n",
    "    aita_raw_df.is_asshole.values,\n",
    "    stratify = aita_raw_df.is_asshole.values,\n",
    "    test_size = 0.2, \n",
    "    random_state = 448\n",
    ")\n",
    "X_train, X_val, y_train, y_val = train_test_split(\n",
    "    X_train, \n",
    "    y_train,\n",
    "    stratify = y_train,\n",
    "    test_size = 0.2, \n",
    "    random_state = 448\n",
    ")\n",
    "print(X_train[0])\n",
    "print(y_train[0])"
   ]
  },
  {
   "cell_type": "code",
   "execution_count": 3,
   "id": "333c0e54",
   "metadata": {
    "id": "333c0e54"
   },
   "outputs": [],
   "source": [
    "embed = KeyedVectors.load('glove300.kv')"
   ]
  },
  {
   "cell_type": "code",
   "execution_count": 4,
   "id": "IjpUdu72RDyi",
   "metadata": {
    "id": "IjpUdu72RDyi"
   },
   "outputs": [],
   "source": [
    "unk = torch.FloatTensor(np.mean(embed.vectors, axis=0))"
   ]
  },
  {
   "cell_type": "code",
   "execution_count": 5,
   "id": "xtlrKwSPMh1j",
   "metadata": {
    "colab": {
     "base_uri": "https://localhost:8080/"
    },
    "executionInfo": {
     "elapsed": 3465,
     "status": "ok",
     "timestamp": 1680092576703,
     "user": {
      "displayName": "Raef Maroof",
      "userId": "03436591939307069191"
     },
     "user_tz": 240
    },
    "id": "xtlrKwSPMh1j",
    "outputId": "e5cf5753-ba48-4a2f-d9ec-1bd938fd5a70"
   },
   "outputs": [
    {
     "name": "stderr",
     "output_type": "stream",
     "text": [
      "/home/maroofr/class/448/mde/nn/model.py:19: UserWarning: The given NumPy array is not writable, and PyTorch does not support non-writable tensors. This means writing to this tensor will result in undefined behavior. You may want to copy the array to protect its data or make it writable before converting it to a tensor. This type of warning will be suppressed for the rest of this program. (Triggered internally at ../torch/csrc/utils/tensor_numpy.cpp:206.)\n",
      "  return {k: torch.FloatTensor(embed[k]) for k in embed.index_to_key}\n"
     ]
    }
   ],
   "source": [
    "embed_tensor_dict = tensor_embeds(embed)"
   ]
  },
  {
   "cell_type": "code",
   "execution_count": 16,
   "id": "93bb65fb",
   "metadata": {
    "executionInfo": {
     "elapsed": 225202,
     "status": "ok",
     "timestamp": 1680092909711,
     "user": {
      "displayName": "Raef Maroof",
      "userId": "03436591939307069191"
     },
     "user_tz": 240
    },
    "id": "93bb65fb"
   },
   "outputs": [],
   "source": [
    "train_data = AITADataset(X_train, y_train, embed_tensor_dict, unk)\n",
    "dev_data = AITADataset(X_val, y_val, embed_tensor_dict, unk)\n",
    "test_data = AITADataset(X_test, y_test, embed_tensor_dict, unk)"
   ]
  },
  {
   "cell_type": "code",
   "execution_count": 18,
   "id": "89f66c03",
   "metadata": {
    "executionInfo": {
     "elapsed": 4,
     "status": "ok",
     "timestamp": 1680092909711,
     "user": {
      "displayName": "Raef Maroof",
      "userId": "03436591939307069191"
     },
     "user_tz": 240
    },
    "id": "89f66c03"
   },
   "outputs": [],
   "source": [
    "train_loader = DataLoader(train_data, batch_size=16, collate_fn=basic_collate_fn, shuffle=True)\n",
    "dev_loader = DataLoader(dev_data, batch_size=16, collate_fn=basic_collate_fn, shuffle=True)\n",
    "test_loader = DataLoader(test_data, batch_size=16, collate_fn=basic_collate_fn, shuffle=False)"
   ]
  },
  {
   "cell_type": "code",
   "execution_count": 6,
   "id": "c60416f3",
   "metadata": {
    "colab": {
     "base_uri": "https://localhost:8080/"
    },
    "executionInfo": {
     "elapsed": 1187,
     "status": "ok",
     "timestamp": 1680092910895,
     "user": {
      "displayName": "Raef Maroof",
      "userId": "03436591939307069191"
     },
     "user_tz": 240
    },
    "id": "c60416f3",
    "outputId": "3af9d810-ed28-43b4-fd26-6bebb8553da3"
   },
   "outputs": [
    {
     "name": "stdout",
     "output_type": "stream",
     "text": [
      "cuda\n"
     ]
    }
   ],
   "source": [
    "device = 'cuda' if torch.cuda.is_available() else 'cpu'\n",
    "print(device)"
   ]
  },
  {
   "cell_type": "code",
   "execution_count": 7,
   "id": "18ba6b9b",
   "metadata": {},
   "outputs": [],
   "source": [
    "overfit_df = aita_raw_df[aita_raw_df[\"length\"] > 500][:1000]\n",
    "overfit_data = AITADataset(overfit_df.post.values, overfit_df.is_asshole.values, embed_tensor_dict, unk)\n",
    "overfit_loader = DataLoader(overfit_data, batch_size=32, collate_fn=basic_collate_fn, shuffle=True)"
   ]
  },
  {
   "cell_type": "code",
   "execution_count": 8,
   "id": "c5ce9aed",
   "metadata": {
    "colab": {
     "base_uri": "https://localhost:8080/",
     "height": 565
    },
    "executionInfo": {
     "elapsed": 127930,
     "status": "error",
     "timestamp": 1680097545169,
     "user": {
      "displayName": "Raef Maroof",
      "userId": "03436591939307069191"
     },
     "user_tz": 240
    },
    "id": "c5ce9aed",
    "outputId": "7a35770d-ed8b-4bcd-dfff-d3782cfca296"
   },
   "outputs": [
    {
     "name": "stdout",
     "output_type": "stream",
     "text": [
      "------------------------ Start Training ------------------------\n",
      "Epoch No. 1--Iteration No. 32-- batch loss = 0.5640\n",
      "Validation accuracy: 0.5128\n",
      "Validation loss: 0.5673\n",
      "Epoch No. 2--Iteration No. 64-- batch loss = 0.7498\n",
      "Validation accuracy: 0.5019\n",
      "Validation loss: 0.5154\n",
      "Epoch No. 3--Iteration No. 96-- batch loss = 0.5821\n",
      "Validation accuracy: 0.5745\n",
      "Validation loss: 0.5202\n",
      "Epoch No. 4--Iteration No. 128-- batch loss = 0.7994\n",
      "Validation accuracy: 0.9674\n",
      "Validation loss: 0.1195\n",
      "Epoch No. 5--Iteration No. 160-- batch loss = 0.2019\n",
      "Validation accuracy: 0.9844\n",
      "Validation loss: 0.0262\n",
      "Epoch No. 6--Iteration No. 192-- batch loss = 0.1052\n",
      "Validation accuracy: 0.9939\n",
      "Validation loss: 0.0407\n",
      "Epoch No. 7--Iteration No. 224-- batch loss = 0.0068\n",
      "Validation accuracy: 0.9974\n",
      "Validation loss: 0.0060\n",
      "Training lasted 2.61 minutes\n",
      "------------------------ Training Done ------------------------\n"
     ]
    },
    {
     "data": {
      "image/png": "[encoded data removed]",
      "text/plain": [
       "<Figure size 640x480 with 1 Axes>"
      ]
     },
     "metadata": {},
     "output_type": "display_data"
    }
   ],
   "source": [
    "# test on validation to see if overfit is possible\n",
    "torch.cuda.empty_cache() \n",
    "net = ensembleCNNBiGRU(256, 256, device, 0)\n",
    "net.to(device)\n",
    "optim = get_optimizer(net, lr=1e-2, weight_decay=0)\n",
    "best_model, stats = train_model(net, overfit_loader, overfit_loader, optim,\n",
    "                                num_epoch=7, collect_cycle=20, device=device, patience=None)\n",
    "plot_loss(stats, False)\n",
    "plot_loss(stats, True)"
   ]
  },
  {
   "cell_type": "code",
   "execution_count": 21,
   "id": "d3702589",
   "metadata": {
    "id": "d3702589"
   },
   "outputs": [
    {
     "name": "stdout",
     "output_type": "stream",
     "text": [
      "cnn hidden from: [256]\n",
      " rnn hidden from: [256]\n",
      "lr from: [0.01]\n",
      "wd from: [0.001]\n",
      "dropout from: [0.5]\n"
     ]
    },
    {
     "data": {
      "application/vnd.jupyter.widget-view+json": {
       "model_id": "3cf409ba780c4c2dae75328fa3a6880a",
       "version_major": 2,
       "version_minor": 0
      },
      "text/plain": [
       "  0%|          | 0/1 [00:00<?, ?it/s]"
      ]
     },
     "metadata": {},
     "output_type": "display_data"
    },
    {
     "name": "stdout",
     "output_type": "stream",
     "text": [
      "------------------------ Start Training ------------------------\n"
     ]
    },
    {
     "ename": "RuntimeError",
     "evalue": "CUDA error: out of memory\nCUDA kernel errors might be asynchronously reported at some other API call, so the stacktrace below might be incorrect.\nFor debugging consider passing CUDA_LAUNCH_BLOCKING=1.\nCompile with `TORCH_USE_CUDA_DSA` to enable device-side assertions.\n",
     "output_type": "error",
     "traceback": [
      "\u001b[0;31m---------------------------------------------------------------------------\u001b[0m",
      "\u001b[0;31mRuntimeError\u001b[0m                              Traceback (most recent call last)",
      "Cell \u001b[0;32mIn[21], line 34\u001b[0m\n\u001b[1;32m     32\u001b[0m     plot_loss(best_stats)\n\u001b[1;32m     33\u001b[0m     \u001b[38;5;28;01mreturn\u001b[39;00m best_model\n\u001b[0;32m---> 34\u001b[0m basic_model \u001b[38;5;241m=\u001b[39m \u001b[43msearch_param\u001b[49m\u001b[43m(\u001b[49m\u001b[43m)\u001b[49m\n",
      "Cell \u001b[0;32mIn[21], line 20\u001b[0m, in \u001b[0;36msearch_param\u001b[0;34m()\u001b[0m\n\u001b[1;32m     18\u001b[0m net \u001b[38;5;241m=\u001b[39m ensembleCNNBiGRU(cnn_hd, rnn_hd, device, dr)\u001b[38;5;241m.\u001b[39mto(device)\n\u001b[1;32m     19\u001b[0m optim \u001b[38;5;241m=\u001b[39m get_optimizer(net, lr\u001b[38;5;241m=\u001b[39mlr, weight_decay\u001b[38;5;241m=\u001b[39mwd)\n\u001b[0;32m---> 20\u001b[0m model, stats \u001b[38;5;241m=\u001b[39m \u001b[43mtrain_model\u001b[49m\u001b[43m(\u001b[49m\u001b[43mnet\u001b[49m\u001b[43m,\u001b[49m\u001b[43m \u001b[49m\u001b[43mtrain_loader\u001b[49m\u001b[43m,\u001b[49m\u001b[43m \u001b[49m\u001b[43mdev_loader\u001b[49m\u001b[43m,\u001b[49m\u001b[43m \u001b[49m\u001b[43moptim\u001b[49m\u001b[43m,\u001b[49m\u001b[43m \u001b[49m\u001b[43mnum_epoch\u001b[49m\u001b[38;5;241;43m=\u001b[39;49m\u001b[38;5;241;43m100\u001b[39;49m\u001b[43m,\u001b[49m\n\u001b[1;32m     21\u001b[0m \u001b[43m                           \u001b[49m\u001b[43mcollect_cycle\u001b[49m\u001b[38;5;241;43m=\u001b[39;49m\u001b[38;5;241;43m500\u001b[39;49m\u001b[43m,\u001b[49m\u001b[43m \u001b[49m\u001b[43mdevice\u001b[49m\u001b[38;5;241;43m=\u001b[39;49m\u001b[43mdevice\u001b[49m\u001b[43m,\u001b[49m\u001b[43m \u001b[49m\u001b[43mverbose\u001b[49m\u001b[38;5;241;43m=\u001b[39;49m\u001b[38;5;28;43;01mTrue\u001b[39;49;00m\u001b[43m,\u001b[49m\u001b[43m \u001b[49m\u001b[43mpatience\u001b[49m\u001b[38;5;241;43m=\u001b[39;49m\u001b[38;5;241;43m10\u001b[39;49m\u001b[43m)\u001b[49m\n\u001b[1;32m     22\u001b[0m \u001b[38;5;66;03m# print accuracy\u001b[39;00m\n\u001b[1;32m     23\u001b[0m \u001b[38;5;28mprint\u001b[39m(\u001b[38;5;124mf\u001b[39m\u001b[38;5;124m\"\u001b[39m\u001b[38;5;132;01m{\u001b[39;00m(cnn_hd,\u001b[38;5;250m \u001b[39mrnn_hd,\u001b[38;5;250m \u001b[39mdr,\u001b[38;5;250m \u001b[39mlr,\u001b[38;5;250m \u001b[39mwd)\u001b[38;5;132;01m}\u001b[39;00m\u001b[38;5;124m: \u001b[39m\u001b[38;5;132;01m{\u001b[39;00mstats[\u001b[38;5;124m'\u001b[39m\u001b[38;5;124maccuracy\u001b[39m\u001b[38;5;124m'\u001b[39m]\u001b[38;5;132;01m}\u001b[39;00m\u001b[38;5;124m\"\u001b[39m)\n",
      "File \u001b[0;32m~/class/448/mde/nn/model.py:238\u001b[0m, in \u001b[0;36mtrain_model\u001b[0;34m(net, trn_loader, val_loader, optim, num_epoch, collect_cycle, device, verbose, patience, stopping_criteria)\u001b[0m\n\u001b[1;32m    236\u001b[0m \u001b[38;5;28;01mfor\u001b[39;00m posts, labels \u001b[38;5;129;01min\u001b[39;00m trn_loader:\n\u001b[1;32m    237\u001b[0m     num_itr \u001b[38;5;241m+\u001b[39m\u001b[38;5;241m=\u001b[39m \u001b[38;5;241m1\u001b[39m\n\u001b[0;32m--> 238\u001b[0m     posts \u001b[38;5;241m=\u001b[39m [post\u001b[38;5;241m.\u001b[39mto(device) \u001b[38;5;28;01mfor\u001b[39;00m post \u001b[38;5;129;01min\u001b[39;00m posts]\n\u001b[1;32m    239\u001b[0m     labels \u001b[38;5;241m=\u001b[39m labels\u001b[38;5;241m.\u001b[39mto(device)\n\u001b[1;32m    241\u001b[0m     optim\u001b[38;5;241m.\u001b[39mzero_grad()\n",
      "File \u001b[0;32m~/class/448/mde/nn/model.py:238\u001b[0m, in \u001b[0;36m<listcomp>\u001b[0;34m(.0)\u001b[0m\n\u001b[1;32m    236\u001b[0m \u001b[38;5;28;01mfor\u001b[39;00m posts, labels \u001b[38;5;129;01min\u001b[39;00m trn_loader:\n\u001b[1;32m    237\u001b[0m     num_itr \u001b[38;5;241m+\u001b[39m\u001b[38;5;241m=\u001b[39m \u001b[38;5;241m1\u001b[39m\n\u001b[0;32m--> 238\u001b[0m     posts \u001b[38;5;241m=\u001b[39m [\u001b[43mpost\u001b[49m\u001b[38;5;241;43m.\u001b[39;49m\u001b[43mto\u001b[49m\u001b[43m(\u001b[49m\u001b[43mdevice\u001b[49m\u001b[43m)\u001b[49m \u001b[38;5;28;01mfor\u001b[39;00m post \u001b[38;5;129;01min\u001b[39;00m posts]\n\u001b[1;32m    239\u001b[0m     labels \u001b[38;5;241m=\u001b[39m labels\u001b[38;5;241m.\u001b[39mto(device)\n\u001b[1;32m    241\u001b[0m     optim\u001b[38;5;241m.\u001b[39mzero_grad()\n",
      "\u001b[0;31mRuntimeError\u001b[0m: CUDA error: out of memory\nCUDA kernel errors might be asynchronously reported at some other API call, so the stacktrace below might be incorrect.\nFor debugging consider passing CUDA_LAUNCH_BLOCKING=1.\nCompile with `TORCH_USE_CUDA_DSA` to enable device-side assertions.\n"
     ]
    }
   ],
   "source": [
    "import itertools\n",
    "from tqdm.notebook import tqdm\n",
    "\n",
    "# Credit for this and a bunch of the training/validation code to EECS 487 staff\n",
    "def search_param():\n",
    "    \"\"\"Experiemnt on different hyper parameters.\"\"\"\n",
    "    cnn_dense_hidden_dim, rnn_dense_hidden_dim, dropout_rate, lr, weight_decay = [256], [256], [0.5], [0.01], [0.001]\n",
    "    total_comb = len(cnn_dense_hidden_dim) * len(rnn_dense_hidden_dim) * len(dropout_rate) * len(lr) * len(weight_decay)\n",
    "    print(\"cnn hidden from: {}\\nrnn hidden from: {}\\nlr from: {}\\nwd from: {}\\ndropout from: {}\".format(\n",
    "        cnn_dense_hidden_dim, rnn_dense_hidden_dim, lr, weight_decay, dropout_rate\n",
    "    ))\n",
    "    best_model, best_stats = None, None\n",
    "    best_accuracy, best_lr, best_wd, best_cnn_hd, best_rnn_hd, best_dr = 0, 0, 0, 0, 0, 0\n",
    "    for cnn_hd, rnn_hd, dr, lr, wd in tqdm(\n",
    "        itertools.product(cnn_dense_hidden_dim, rnn_dense_hidden_dim, dropout_rate, lr, weight_decay),\n",
    "        total=total_comb\n",
    "    ):\n",
    "        net = ensembleCNNBiGRU(cnn_hd, rnn_hd, device, dr).to(device)\n",
    "        optim = get_optimizer(net, lr=lr, weight_decay=wd)\n",
    "        model, stats = train_model(net, train_loader, dev_loader, optim, num_epoch=100,\n",
    "                                   collect_cycle=500, device=device, verbose=True, patience=10)\n",
    "        # print accuracy\n",
    "        print(f\"{(cnn_hd, rnn_hd, dr, lr, wd)}: {stats['accuracy']}\")\n",
    "        # update best parameters if needed\n",
    "        if stats['accuracy'] > best_accuracy:\n",
    "            best_accuracy = stats['accuracy']\n",
    "            best_model, best_stats = model, stats\n",
    "            best_lr, best_wd, best_cnn_hd, best_rnn_hd, best_dr = lr, wd, cnn_hd, rnn_hd, dr\n",
    "    print(\"\\n\\nBest cnn hidden: {}, Best rnn hidden: {}, Best weight_decay: {}, Best lr: {}, Best dropout: {}\".format(\n",
    "        best_cnn_hd, best_rnn_hd, best_wd, best_lr, best_dr))\n",
    "    print(\"Accuracy: {:.4f}\".format(best_accuracy))\n",
    "    plot_loss(best_stats)\n",
    "    return best_model\n",
    "basic_model = search_param()"
   ]
  }
 ],
 "metadata": {
  "accelerator": "GPU",
  "colab": {
   "provenance": []
  },
  "gpuClass": "standard",
  "kernelspec": {
   "display_name": "Python 3 (ipykernel)",
   "language": "python",
   "name": "python3"
  },
  "language_info": {
   "codemirror_mode": {
    "name": "ipython",
    "version": 3
   },
   "file_extension": ".py",
   "mimetype": "text/x-python",
   "name": "python",
   "nbconvert_exporter": "python",
   "pygments_lexer": "ipython3",
   "version": "3.8.10"
  }
 },
 "nbformat": 4,
 "nbformat_minor": 5
}
