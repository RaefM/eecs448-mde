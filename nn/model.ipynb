{
 "cells": [
  {
   "cell_type": "code",
   "execution_count": 1,
   "id": "0b7b8ae5",
   "metadata": {
    "colab": {
     "base_uri": "https://localhost:8080/"
    },
    "executionInfo": {
     "elapsed": 6839,
     "status": "ok",
     "timestamp": 1680092538285,
     "user": {
      "displayName": "Raef Maroof",
      "userId": "03436591939307069191"
     },
     "user_tz": 240
    },
    "id": "0b7b8ae5",
    "outputId": "4fcce91e-9e34-406f-fc43-f549cb682809"
   },
   "outputs": [],
   "source": [
    "%load_ext autoreload\n",
    "%autoreload 2\n",
    "\n",
    "import pandas as pd\n",
    "import torch\n",
    "import nltk\n",
    "from model import *\n",
    "from torch.utils.data import DataLoader\n",
    "from sklearn.model_selection import train_test_split\n",
    "from nltk.tokenize import word_tokenize"
   ]
  },
  {
   "cell_type": "code",
   "execution_count": 2,
   "id": "c43075d6",
   "metadata": {
    "colab": {
     "base_uri": "https://localhost:8080/",
     "height": 1000
    },
    "executionInfo": {
     "elapsed": 8757,
     "status": "ok",
     "timestamp": 1680092549307,
     "user": {
      "displayName": "Raef Maroof",
      "userId": "03436591939307069191"
     },
     "user_tz": 240
    },
    "id": "c43075d6",
    "outputId": "5861187c-0f54-4058-ea52-b807987df839"
   },
   "outputs": [
    {
     "data": {
      "text/html": [
       "<div>\n",
       "<style scoped>\n",
       "    .dataframe tbody tr th:only-of-type {\n",
       "        vertical-align: middle;\n",
       "    }\n",
       "\n",
       "    .dataframe tbody tr th {\n",
       "        vertical-align: top;\n",
       "    }\n",
       "\n",
       "    .dataframe thead th {\n",
       "        text-align: right;\n",
       "    }\n",
       "</style>\n",
       "<table border=\"1\" class=\"dataframe\">\n",
       "  <thead>\n",
       "    <tr style=\"text-align: right;\">\n",
       "      <th></th>\n",
       "      <th>Unnamed: 0</th>\n",
       "      <th>id</th>\n",
       "      <th>timestamp</th>\n",
       "      <th>title</th>\n",
       "      <th>body</th>\n",
       "      <th>edited</th>\n",
       "      <th>verdict</th>\n",
       "      <th>score</th>\n",
       "      <th>num_comments</th>\n",
       "      <th>is_asshole</th>\n",
       "      <th>post</th>\n",
       "      <th>length</th>\n",
       "    </tr>\n",
       "  </thead>\n",
       "  <tbody>\n",
       "    <tr>\n",
       "      <th>0</th>\n",
       "      <td>0</td>\n",
       "      <td>1ytxov</td>\n",
       "      <td>1.393279e+09</td>\n",
       "      <td>[AITA] I wrote an explanation in TIL and came ...</td>\n",
       "      <td>[Here is the post in question](http://www.redd...</td>\n",
       "      <td>False</td>\n",
       "      <td>asshole</td>\n",
       "      <td>52</td>\n",
       "      <td>13.0</td>\n",
       "      <td>1</td>\n",
       "      <td>[AITA] I wrote an explanation in TIL and came ...</td>\n",
       "      <td>106</td>\n",
       "    </tr>\n",
       "    <tr>\n",
       "      <th>1</th>\n",
       "      <td>1</td>\n",
       "      <td>1yu29c</td>\n",
       "      <td>1.393281e+09</td>\n",
       "      <td>[AITA] Threw my parent's donuts away</td>\n",
       "      <td>My parents are diabetic, morbidly obese, and a...</td>\n",
       "      <td>1393290576.0</td>\n",
       "      <td>asshole</td>\n",
       "      <td>140</td>\n",
       "      <td>27.0</td>\n",
       "      <td>1</td>\n",
       "      <td>[AITA] Threw my parent's donuts awayMy parents...</td>\n",
       "      <td>180</td>\n",
       "    </tr>\n",
       "    <tr>\n",
       "      <th>2</th>\n",
       "      <td>2</td>\n",
       "      <td>1yu8hi</td>\n",
       "      <td>1.393285e+09</td>\n",
       "      <td>I told a goth girl she looked like a clown.</td>\n",
       "      <td>I was four.</td>\n",
       "      <td>False</td>\n",
       "      <td>not the asshole</td>\n",
       "      <td>74</td>\n",
       "      <td>15.0</td>\n",
       "      <td>0</td>\n",
       "      <td>I told a goth girl she looked like a clown.I w...</td>\n",
       "      <td>13</td>\n",
       "    </tr>\n",
       "    <tr>\n",
       "      <th>3</th>\n",
       "      <td>3</td>\n",
       "      <td>1yuc78</td>\n",
       "      <td>1.393287e+09</td>\n",
       "      <td>[AItA]: Argument I had with another redditor i...</td>\n",
       "      <td>http://www.reddit.com/r/HIMYM/comments/1vvfkq/...</td>\n",
       "      <td>1393286962.0</td>\n",
       "      <td>everyone sucks</td>\n",
       "      <td>22</td>\n",
       "      <td>3.0</td>\n",
       "      <td>1</td>\n",
       "      <td>[AItA]: Argument I had with another redditor i...</td>\n",
       "      <td>21</td>\n",
       "    </tr>\n",
       "    <tr>\n",
       "      <th>4</th>\n",
       "      <td>4</td>\n",
       "      <td>1yueqb</td>\n",
       "      <td>1.393288e+09</td>\n",
       "      <td>[AITA] I let my story get a little long and bo...</td>\n",
       "      <td>NaN</td>\n",
       "      <td>False</td>\n",
       "      <td>not the asshole</td>\n",
       "      <td>6</td>\n",
       "      <td>4.0</td>\n",
       "      <td>0</td>\n",
       "      <td>[AITA] I let my story get a little long and bo...</td>\n",
       "      <td>25</td>\n",
       "    </tr>\n",
       "    <tr>\n",
       "      <th>...</th>\n",
       "      <td>...</td>\n",
       "      <td>...</td>\n",
       "      <td>...</td>\n",
       "      <td>...</td>\n",
       "      <td>...</td>\n",
       "      <td>...</td>\n",
       "      <td>...</td>\n",
       "      <td>...</td>\n",
       "      <td>...</td>\n",
       "      <td>...</td>\n",
       "      <td>...</td>\n",
       "      <td>...</td>\n",
       "    </tr>\n",
       "    <tr>\n",
       "      <th>97623</th>\n",
       "      <td>97623</td>\n",
       "      <td>ex94w5</td>\n",
       "      <td>1.580577e+09</td>\n",
       "      <td>AITA for telling my sister she is being a spoi...</td>\n",
       "      <td>My sister(17F) and I(15M) are white kids born ...</td>\n",
       "      <td>1580585457.0</td>\n",
       "      <td>not the asshole</td>\n",
       "      <td>16</td>\n",
       "      <td>23.0</td>\n",
       "      <td>0</td>\n",
       "      <td>AITA for telling my sister she is being a spoi...</td>\n",
       "      <td>170</td>\n",
       "    </tr>\n",
       "    <tr>\n",
       "      <th>97624</th>\n",
       "      <td>97624</td>\n",
       "      <td>ex970f</td>\n",
       "      <td>1.580577e+09</td>\n",
       "      <td>AITA for telling my husband to f* off after he...</td>\n",
       "      <td>My husband (28M) and I (32F) are married for a...</td>\n",
       "      <td>1580584475.0</td>\n",
       "      <td>not the asshole</td>\n",
       "      <td>1373</td>\n",
       "      <td>304.0</td>\n",
       "      <td>0</td>\n",
       "      <td>AITA for telling my husband to f* off after he...</td>\n",
       "      <td>545</td>\n",
       "    </tr>\n",
       "    <tr>\n",
       "      <th>97625</th>\n",
       "      <td>97625</td>\n",
       "      <td>ex9dwo</td>\n",
       "      <td>1.580578e+09</td>\n",
       "      <td>AITA for attempting to keep my students out of...</td>\n",
       "      <td>Upfront apologies for formatting. I’m also try...</td>\n",
       "      <td>False</td>\n",
       "      <td>not the asshole</td>\n",
       "      <td>4</td>\n",
       "      <td>15.0</td>\n",
       "      <td>0</td>\n",
       "      <td>AITA for attempting to keep my students out of...</td>\n",
       "      <td>419</td>\n",
       "    </tr>\n",
       "    <tr>\n",
       "      <th>97626</th>\n",
       "      <td>97626</td>\n",
       "      <td>ex9egs</td>\n",
       "      <td>1.580578e+09</td>\n",
       "      <td>WIBTA if I left my brothers fate up to the state?</td>\n",
       "      <td>A little back story my mom is a drug addict an...</td>\n",
       "      <td>False</td>\n",
       "      <td>not the asshole</td>\n",
       "      <td>280</td>\n",
       "      <td>140.0</td>\n",
       "      <td>0</td>\n",
       "      <td>WIBTA if I left my brothers fate up to the sta...</td>\n",
       "      <td>283</td>\n",
       "    </tr>\n",
       "    <tr>\n",
       "      <th>97627</th>\n",
       "      <td>97627</td>\n",
       "      <td>ex9g78</td>\n",
       "      <td>1.580578e+09</td>\n",
       "      <td>WIBTA for rocking the boat at work because my ...</td>\n",
       "      <td>I’m a (23F) apprentice in the trades. I work o...</td>\n",
       "      <td>False</td>\n",
       "      <td>not the asshole</td>\n",
       "      <td>5</td>\n",
       "      <td>21.0</td>\n",
       "      <td>0</td>\n",
       "      <td>WIBTA for rocking the boat at work because my ...</td>\n",
       "      <td>486</td>\n",
       "    </tr>\n",
       "  </tbody>\n",
       "</table>\n",
       "<p>97628 rows × 12 columns</p>\n",
       "</div>"
      ],
      "text/plain": [
       "       Unnamed: 0      id     timestamp  \\\n",
       "0               0  1ytxov  1.393279e+09   \n",
       "1               1  1yu29c  1.393281e+09   \n",
       "2               2  1yu8hi  1.393285e+09   \n",
       "3               3  1yuc78  1.393287e+09   \n",
       "4               4  1yueqb  1.393288e+09   \n",
       "...           ...     ...           ...   \n",
       "97623       97623  ex94w5  1.580577e+09   \n",
       "97624       97624  ex970f  1.580577e+09   \n",
       "97625       97625  ex9dwo  1.580578e+09   \n",
       "97626       97626  ex9egs  1.580578e+09   \n",
       "97627       97627  ex9g78  1.580578e+09   \n",
       "\n",
       "                                                   title  \\\n",
       "0      [AITA] I wrote an explanation in TIL and came ...   \n",
       "1                   [AITA] Threw my parent's donuts away   \n",
       "2            I told a goth girl she looked like a clown.   \n",
       "3      [AItA]: Argument I had with another redditor i...   \n",
       "4      [AITA] I let my story get a little long and bo...   \n",
       "...                                                  ...   \n",
       "97623  AITA for telling my sister she is being a spoi...   \n",
       "97624  AITA for telling my husband to f* off after he...   \n",
       "97625  AITA for attempting to keep my students out of...   \n",
       "97626  WIBTA if I left my brothers fate up to the state?   \n",
       "97627  WIBTA for rocking the boat at work because my ...   \n",
       "\n",
       "                                                    body        edited  \\\n",
       "0      [Here is the post in question](http://www.redd...         False   \n",
       "1      My parents are diabetic, morbidly obese, and a...  1393290576.0   \n",
       "2                                            I was four.         False   \n",
       "3      http://www.reddit.com/r/HIMYM/comments/1vvfkq/...  1393286962.0   \n",
       "4                                                    NaN         False   \n",
       "...                                                  ...           ...   \n",
       "97623  My sister(17F) and I(15M) are white kids born ...  1580585457.0   \n",
       "97624  My husband (28M) and I (32F) are married for a...  1580584475.0   \n",
       "97625  Upfront apologies for formatting. I’m also try...         False   \n",
       "97626  A little back story my mom is a drug addict an...         False   \n",
       "97627  I’m a (23F) apprentice in the trades. I work o...         False   \n",
       "\n",
       "               verdict  score  num_comments  is_asshole  \\\n",
       "0              asshole     52          13.0           1   \n",
       "1              asshole    140          27.0           1   \n",
       "2      not the asshole     74          15.0           0   \n",
       "3       everyone sucks     22           3.0           1   \n",
       "4      not the asshole      6           4.0           0   \n",
       "...                ...    ...           ...         ...   \n",
       "97623  not the asshole     16          23.0           0   \n",
       "97624  not the asshole   1373         304.0           0   \n",
       "97625  not the asshole      4          15.0           0   \n",
       "97626  not the asshole    280         140.0           0   \n",
       "97627  not the asshole      5          21.0           0   \n",
       "\n",
       "                                                    post  length  \n",
       "0      [AITA] I wrote an explanation in TIL and came ...     106  \n",
       "1      [AITA] Threw my parent's donuts awayMy parents...     180  \n",
       "2      I told a goth girl she looked like a clown.I w...      13  \n",
       "3      [AItA]: Argument I had with another redditor i...      21  \n",
       "4      [AITA] I let my story get a little long and bo...      25  \n",
       "...                                                  ...     ...  \n",
       "97623  AITA for telling my sister she is being a spoi...     170  \n",
       "97624  AITA for telling my husband to f* off after he...     545  \n",
       "97625  AITA for attempting to keep my students out of...     419  \n",
       "97626  WIBTA if I left my brothers fate up to the sta...     283  \n",
       "97627  WIBTA for rocking the boat at work because my ...     486  \n",
       "\n",
       "[97628 rows x 12 columns]"
      ]
     },
     "execution_count": 2,
     "metadata": {},
     "output_type": "execute_result"
    }
   ],
   "source": [
    "aita_raw_df = pd.read_csv('aita_minimal_preprocess.csv')\n",
    "aita_raw_df"
   ]
  },
  {
   "cell_type": "code",
   "execution_count": 3,
   "id": "0ef07512",
   "metadata": {
    "colab": {
     "base_uri": "https://localhost:8080/"
    },
    "executionInfo": {
     "elapsed": 133,
     "status": "ok",
     "timestamp": 1680092561987,
     "user": {
      "displayName": "Raef Maroof",
      "userId": "03436591939307069191"
     },
     "user_tz": 240
    },
    "id": "0ef07512",
    "outputId": "861951d0-e283-4ed9-94df-cba8e466aacd"
   },
   "outputs": [
    {
     "name": "stdout",
     "output_type": "stream",
     "text": [
      "AITA for wanting to dump a girl after finding out she has an STD?So I (32m) started dating a new girl (26f) after a disgusting horrible divorce from my wife who I’ve been with for like 15 years.. \n",
      "\n",
      "So I was super patent and deliberate in choosing a girl to date, turning down lots of others over the last year or so of separation... Then I met this girl and she is like EVERYTHING I want in a woman, and I could really see myself having a long-term relationship with her. \n",
      "\n",
      "We took things slow and waited about a month to have sex, just fooling around and doing other stuff. Then when the time came she stopped me right before and told me she had been living with herpes since the age of 19.. She was very mature and responsible and understanding and said she’d give me time to think about it, but...TBH I’m fucking freaking out. I’m terrified that this could affect me and my life forever if I end up being with her.\n",
      "\n",
      "I basically told her all of this, and broke up with her. I said that I couldn’t risk my health or well being and that I’ve been through too much to not give myself every chance at happiness. She says I’m being immature and I’m an asshole and insists that it’s really no big deal.\n",
      "\n",
      "So, am I being an asshole?? I sure feel like one... But at this point in my life and with a daughter who I basically raise alone I need to be selfish with my time and my life. Has anyone been in a similar situation? What are my options? Help me out Reddit, I’m feeling pretty f’ed up over this...\n",
      "0\n"
     ]
    }
   ],
   "source": [
    "X_train, X_test, y_train, y_test = train_test_split(\n",
    "    aita_raw_df.post.values, \n",
    "    aita_raw_df.is_asshole.values,\n",
    "    stratify = aita_raw_df.is_asshole.values,\n",
    "    test_size = 0.2, \n",
    "    random_state = 448\n",
    ")\n",
    "X_train, X_val, y_train, y_val = train_test_split(\n",
    "    X_train, \n",
    "    y_train,\n",
    "    stratify = y_train,\n",
    "    test_size = 0.2, \n",
    "    random_state = 448\n",
    ")\n",
    "print(X_train[0])\n",
    "print(y_train[0])"
   ]
  },
  {
   "cell_type": "code",
   "execution_count": 5,
   "id": "333c0e54",
   "metadata": {
    "id": "333c0e54"
   },
   "outputs": [],
   "source": [
    "embed = KeyedVectors.load('glove300.kv')"
   ]
  },
  {
   "cell_type": "code",
   "execution_count": 6,
   "id": "IjpUdu72RDyi",
   "metadata": {
    "id": "IjpUdu72RDyi"
   },
   "outputs": [],
   "source": [
    "unk = torch.FloatTensor(np.mean(embed.vectors, axis=0))"
   ]
  },
  {
   "cell_type": "code",
   "execution_count": 7,
   "id": "xtlrKwSPMh1j",
   "metadata": {
    "colab": {
     "base_uri": "https://localhost:8080/"
    },
    "executionInfo": {
     "elapsed": 3465,
     "status": "ok",
     "timestamp": 1680092576703,
     "user": {
      "displayName": "Raef Maroof",
      "userId": "03436591939307069191"
     },
     "user_tz": 240
    },
    "id": "xtlrKwSPMh1j",
    "outputId": "e5cf5753-ba48-4a2f-d9ec-1bd938fd5a70"
   },
   "outputs": [
    {
     "name": "stderr",
     "output_type": "stream",
     "text": [
      "/home/maroofr/class/448/mde/nn/model.py:19: UserWarning: The given NumPy array is not writable, and PyTorch does not support non-writable tensors. This means writing to this tensor will result in undefined behavior. You may want to copy the array to protect its data or make it writable before converting it to a tensor. This type of warning will be suppressed for the rest of this program. (Triggered internally at ../torch/csrc/utils/tensor_numpy.cpp:206.)\n",
      "  return {k: torch.FloatTensor(embed[k]) for k in embed.index_to_key}\n"
     ]
    }
   ],
   "source": [
    "embed_tensor_dict = tensor_embeds(embed)"
   ]
  },
  {
   "cell_type": "code",
   "execution_count": 8,
   "id": "93bb65fb",
   "metadata": {
    "executionInfo": {
     "elapsed": 225202,
     "status": "ok",
     "timestamp": 1680092909711,
     "user": {
      "displayName": "Raef Maroof",
      "userId": "03436591939307069191"
     },
     "user_tz": 240
    },
    "id": "93bb65fb"
   },
   "outputs": [],
   "source": [
    "train_data = AITADataset(X_train, y_train, embed_tensor_dict, unk)\n",
    "dev_data = AITADataset(X_val, y_val, embed_tensor_dict, unk)\n",
    "test_data = AITADataset(X_test, y_test, embed_tensor_dict, unk)"
   ]
  },
  {
   "cell_type": "code",
   "execution_count": 9,
   "id": "89f66c03",
   "metadata": {
    "executionInfo": {
     "elapsed": 4,
     "status": "ok",
     "timestamp": 1680092909711,
     "user": {
      "displayName": "Raef Maroof",
      "userId": "03436591939307069191"
     },
     "user_tz": 240
    },
    "id": "89f66c03"
   },
   "outputs": [],
   "source": [
    "train_loader = DataLoader(train_data, batch_size=64, collate_fn=basic_collate_fn, shuffle=True)\n",
    "dev_loader = DataLoader(dev_data, batch_size=64, collate_fn=basic_collate_fn, shuffle=True)\n",
    "test_loader = DataLoader(test_data, batch_size=64, collate_fn=basic_collate_fn, shuffle=False)"
   ]
  },
  {
   "cell_type": "code",
   "execution_count": 10,
   "id": "c60416f3",
   "metadata": {
    "colab": {
     "base_uri": "https://localhost:8080/"
    },
    "executionInfo": {
     "elapsed": 1187,
     "status": "ok",
     "timestamp": 1680092910895,
     "user": {
      "displayName": "Raef Maroof",
      "userId": "03436591939307069191"
     },
     "user_tz": 240
    },
    "id": "c60416f3",
    "outputId": "3af9d810-ed28-43b4-fd26-6bebb8553da3"
   },
   "outputs": [
    {
     "name": "stdout",
     "output_type": "stream",
     "text": [
      "cuda\n"
     ]
    }
   ],
   "source": [
    "device = 'cuda' if torch.cuda.is_available() else 'cpu'\n",
    "print(device)"
   ]
  },
  {
   "cell_type": "code",
   "execution_count": 7,
   "id": "83606677",
   "metadata": {},
   "outputs": [],
   "source": [
    "overfit_df = aita_raw_df[aita_raw_df[\"length\"] > 500][:1000]\n",
    "overfit_data = AITADataset(overfit_df.post.values, overfit_df.is_asshole.values, embed_tensor_dict, unk)\n",
    "overfit_loader = DataLoader(overfit_data, batch_size=32, collate_fn=basic_collate_fn, shuffle=True)"
   ]
  },
  {
   "cell_type": "code",
   "execution_count": 14,
   "id": "ed377aa9",
   "metadata": {},
   "outputs": [
    {
     "data": {
      "text/plain": [
       "tensor([2.6825], device='cuda:0')"
      ]
     },
     "execution_count": 14,
     "metadata": {},
     "output_type": "execute_result"
    }
   ],
   "source": [
    "counts = [0, 0]\n",
    "for y in y_train:\n",
    "    counts[y] += 1\n",
    "\n",
    "pos_weight = torch.Tensor([counts[0] / counts[1]]).to(device)\n",
    "pos_weight"
   ]
  },
  {
   "cell_type": "code",
   "execution_count": 15,
   "id": "c5ce9aed",
   "metadata": {
    "colab": {
     "base_uri": "https://localhost:8080/",
     "height": 565
    },
    "executionInfo": {
     "elapsed": 127930,
     "status": "error",
     "timestamp": 1680097545169,
     "user": {
      "displayName": "Raef Maroof",
      "userId": "03436591939307069191"
     },
     "user_tz": 240
    },
    "id": "c5ce9aed",
    "outputId": "7a35770d-ed8b-4bcd-dfff-d3782cfca296"
   },
   "outputs": [
    {
     "name": "stdout",
     "output_type": "stream",
     "text": [
      "------------------------ Start Training ------------------------\n",
      "Epoch No. 1--Iteration No. 32-- batch loss = 0.9358\n",
      "Validation UAR: 0.5047\n",
      "Validation accuracy: 0.2640\n",
      "Validation loss: 1.0043\n",
      "Epoch No. 2--Iteration No. 64-- batch loss = 0.9137\n",
      "Validation UAR: 0.7846\n",
      "Validation accuracy: 0.8860\n",
      "Validation loss: 0.6398\n",
      "Epoch No. 3--Iteration No. 96-- batch loss = 0.6876\n",
      "Validation UAR: 0.9456\n",
      "Validation accuracy: 0.9230\n",
      "Validation loss: 0.2410\n",
      "Epoch No. 4--Iteration No. 128-- batch loss = 0.4626\n",
      "Validation UAR: 0.9786\n",
      "Validation accuracy: 0.9720\n",
      "Validation loss: 0.1418\n",
      "Epoch No. 5--Iteration No. 160-- batch loss = 0.0081\n",
      "Validation UAR: 0.9047\n",
      "Validation accuracy: 0.9510\n",
      "Validation loss: 0.3075\n",
      "Epoch No. 6--Iteration No. 192-- batch loss = 0.0007\n",
      "Validation UAR: 0.9974\n",
      "Validation accuracy: 0.9980\n",
      "Validation loss: 0.0117\n",
      "Epoch No. 7--Iteration No. 224-- batch loss = 0.0130\n",
      "Validation UAR: 0.9744\n",
      "Validation accuracy: 0.9620\n",
      "Validation loss: 0.1226\n",
      "Training lasted 2.84 minutes\n",
      "------------------------ Training Done ------------------------\n"
     ]
    },
    {
     "data": {
      "image/png": "[encoded data removed]",
      "text/plain": [
       "<Figure size 640x480 with 1 Axes>"
      ]
     },
     "metadata": {},
     "output_type": "display_data"
    }
   ],
   "source": [
    "# test on validation to see if overfit is possible\n",
    "torch.cuda.empty_cache() \n",
    "# net = textCNN(256, device, 0)\n",
    "net = ensembleCNNBiGRU(256, 256, device, 0)\n",
    "net.to(device)\n",
    "optim = get_optimizer(net, lr=1e-2, weight_decay=0)\n",
    "best_model, stats = train_model(net, overfit_loader, overfit_loader, optim,\n",
    "                                num_epoch=7, collect_cycle=20, device=device, \n",
    "                                patience=None, pos_weight=pos_weight)\n",
    "plot_loss(stats, False)\n",
    "plot_loss(stats, True)"
   ]
  },
  {
   "cell_type": "code",
   "execution_count": 11,
   "id": "c8ae2ba7",
   "metadata": {},
   "outputs": [
    {
     "data": {
      "text/plain": [
       "2.682501326103613"
      ]
     },
     "execution_count": 11,
     "metadata": {},
     "output_type": "execute_result"
    }
   ],
   "source": [
    "counts = [0, 0]\n",
    "for y in y_train:\n",
    "    counts[y] += 1\n",
    "    \n",
    "pos_weight = counts[0] / counts[1]\n",
    "pos_weight"
   ]
  },
  {
   "cell_type": "code",
   "execution_count": 16,
   "id": "d3702589",
   "metadata": {
    "id": "d3702589"
   },
   "outputs": [
    {
     "name": "stdout",
     "output_type": "stream",
     "text": [
      "cnn hidden from: [256]\n",
      "rnn hidden from: [512]\n",
      "lr from: [0.01]\n",
      "wd from: [0]\n",
      "dropout from: [0]\n"
     ]
    },
    {
     "data": {
      "application/vnd.jupyter.widget-view+json": {
       "model_id": "1b7ec656767c44c49480e0ad1e8264ad",
       "version_major": 2,
       "version_minor": 0
      },
      "text/plain": [
       "  0%|          | 0/1 [00:00<?, ?it/s]"
      ]
     },
     "metadata": {},
     "output_type": "display_data"
    },
    {
     "name": "stdout",
     "output_type": "stream",
     "text": [
      "------------------------ Start Training ------------------------\n"
     ]
    },
    {
     "ename": "OutOfMemoryError",
     "evalue": "CUDA out of memory. Tried to allocate 522.00 MiB (GPU 0; 4.00 GiB total capacity; 1.85 GiB already allocated; 149.25 MiB free; 3.80 GiB allowed; 1.97 GiB reserved in total by PyTorch) If reserved memory is >> allocated memory try setting max_split_size_mb to avoid fragmentation.  See documentation for Memory Management and PYTORCH_CUDA_ALLOC_CONF",
     "output_type": "error",
     "traceback": [
      "\u001b[0;31m---------------------------------------------------------------------------\u001b[0m",
      "\u001b[0;31mOutOfMemoryError\u001b[0m                          Traceback (most recent call last)",
      "Cell \u001b[0;32mIn[16], line 36\u001b[0m\n\u001b[1;32m     34\u001b[0m     plot_loss(best_stats)\n\u001b[1;32m     35\u001b[0m     \u001b[38;5;28;01mreturn\u001b[39;00m best_model\n\u001b[0;32m---> 36\u001b[0m basic_model \u001b[38;5;241m=\u001b[39m \u001b[43msearch_param\u001b[49m\u001b[43m(\u001b[49m\u001b[43m)\u001b[49m\n",
      "Cell \u001b[0;32mIn[16], line 22\u001b[0m, in \u001b[0;36msearch_param\u001b[0;34m()\u001b[0m\n\u001b[1;32m     20\u001b[0m net \u001b[38;5;241m=\u001b[39m ensembleCNNBiGRU(cnn_hd, rnn_hd, device, dr)\u001b[38;5;241m.\u001b[39mto(device)\n\u001b[1;32m     21\u001b[0m optim \u001b[38;5;241m=\u001b[39m get_optimizer(net, lr\u001b[38;5;241m=\u001b[39mlr, weight_decay\u001b[38;5;241m=\u001b[39mwd)\n\u001b[0;32m---> 22\u001b[0m model, stats \u001b[38;5;241m=\u001b[39m \u001b[43mtrain_model\u001b[49m\u001b[43m(\u001b[49m\u001b[43mnet\u001b[49m\u001b[43m,\u001b[49m\u001b[43m \u001b[49m\u001b[43mtrain_loader\u001b[49m\u001b[43m,\u001b[49m\u001b[43m \u001b[49m\u001b[43mdev_loader\u001b[49m\u001b[43m,\u001b[49m\u001b[43m \u001b[49m\u001b[43moptim\u001b[49m\u001b[43m,\u001b[49m\u001b[43m \u001b[49m\u001b[43mnum_epoch\u001b[49m\u001b[38;5;241;43m=\u001b[39;49m\u001b[38;5;241;43m100\u001b[39;49m\u001b[43m,\u001b[49m\n\u001b[1;32m     23\u001b[0m \u001b[43m                           \u001b[49m\u001b[43mcollect_cycle\u001b[49m\u001b[38;5;241;43m=\u001b[39;49m\u001b[38;5;241;43m500\u001b[39;49m\u001b[43m,\u001b[49m\u001b[43m \u001b[49m\u001b[43mdevice\u001b[49m\u001b[38;5;241;43m=\u001b[39;49m\u001b[43mdevice\u001b[49m\u001b[43m,\u001b[49m\u001b[43m \u001b[49m\u001b[43mverbose\u001b[49m\u001b[38;5;241;43m=\u001b[39;49m\u001b[38;5;28;43;01mTrue\u001b[39;49;00m\u001b[43m,\u001b[49m\u001b[43m \u001b[49m\u001b[43mpatience\u001b[49m\u001b[38;5;241;43m=\u001b[39;49m\u001b[38;5;241;43m10\u001b[39;49m\u001b[43m)\u001b[49m\n\u001b[1;32m     24\u001b[0m \u001b[38;5;66;03m# print accuracy\u001b[39;00m\n\u001b[1;32m     25\u001b[0m \u001b[38;5;28mprint\u001b[39m(\u001b[38;5;124mf\u001b[39m\u001b[38;5;124m\"\u001b[39m\u001b[38;5;132;01m{\u001b[39;00m(cnn_hd,\u001b[38;5;250m \u001b[39mrnn_hd,\u001b[38;5;250m \u001b[39mdr,\u001b[38;5;250m \u001b[39mlr,\u001b[38;5;250m \u001b[39mwd)\u001b[38;5;132;01m}\u001b[39;00m\u001b[38;5;124m: \u001b[39m\u001b[38;5;132;01m{\u001b[39;00mstats[\u001b[38;5;124m'\u001b[39m\u001b[38;5;124maccuracy\u001b[39m\u001b[38;5;124m'\u001b[39m]\u001b[38;5;132;01m}\u001b[39;00m\u001b[38;5;124m\"\u001b[39m)\n",
      "File \u001b[0;32m~/class/448/mde/nn/model.py:248\u001b[0m, in \u001b[0;36mtrain_model\u001b[0;34m(net, trn_loader, val_loader, optim, num_epoch, collect_cycle, device, verbose, patience, stopping_criteria)\u001b[0m\n\u001b[1;32m    245\u001b[0m labels \u001b[38;5;241m=\u001b[39m labels\u001b[38;5;241m.\u001b[39mto(device)\n\u001b[1;32m    247\u001b[0m optim\u001b[38;5;241m.\u001b[39mzero_grad()\n\u001b[0;32m--> 248\u001b[0m output \u001b[38;5;241m=\u001b[39m \u001b[43mnet\u001b[49m\u001b[43m(\u001b[49m\u001b[43mposts\u001b[49m\u001b[43m)\u001b[49m\n\u001b[1;32m    249\u001b[0m loss \u001b[38;5;241m=\u001b[39m calculate_loss(output, labels, loss_fn)\n\u001b[1;32m    250\u001b[0m loss\u001b[38;5;241m.\u001b[39mbackward()\n",
      "File \u001b[0;32m~/class/448/eecs448/lib/python3.8/site-packages/torch/nn/modules/module.py:1501\u001b[0m, in \u001b[0;36mModule._call_impl\u001b[0;34m(self, *args, **kwargs)\u001b[0m\n\u001b[1;32m   1496\u001b[0m \u001b[38;5;66;03m# If we don't have any hooks, we want to skip the rest of the logic in\u001b[39;00m\n\u001b[1;32m   1497\u001b[0m \u001b[38;5;66;03m# this function, and just call forward.\u001b[39;00m\n\u001b[1;32m   1498\u001b[0m \u001b[38;5;28;01mif\u001b[39;00m \u001b[38;5;129;01mnot\u001b[39;00m (\u001b[38;5;28mself\u001b[39m\u001b[38;5;241m.\u001b[39m_backward_hooks \u001b[38;5;129;01mor\u001b[39;00m \u001b[38;5;28mself\u001b[39m\u001b[38;5;241m.\u001b[39m_backward_pre_hooks \u001b[38;5;129;01mor\u001b[39;00m \u001b[38;5;28mself\u001b[39m\u001b[38;5;241m.\u001b[39m_forward_hooks \u001b[38;5;129;01mor\u001b[39;00m \u001b[38;5;28mself\u001b[39m\u001b[38;5;241m.\u001b[39m_forward_pre_hooks\n\u001b[1;32m   1499\u001b[0m         \u001b[38;5;129;01mor\u001b[39;00m _global_backward_pre_hooks \u001b[38;5;129;01mor\u001b[39;00m _global_backward_hooks\n\u001b[1;32m   1500\u001b[0m         \u001b[38;5;129;01mor\u001b[39;00m _global_forward_hooks \u001b[38;5;129;01mor\u001b[39;00m _global_forward_pre_hooks):\n\u001b[0;32m-> 1501\u001b[0m     \u001b[38;5;28;01mreturn\u001b[39;00m \u001b[43mforward_call\u001b[49m\u001b[43m(\u001b[49m\u001b[38;5;241;43m*\u001b[39;49m\u001b[43margs\u001b[49m\u001b[43m,\u001b[49m\u001b[43m \u001b[49m\u001b[38;5;241;43m*\u001b[39;49m\u001b[38;5;241;43m*\u001b[39;49m\u001b[43mkwargs\u001b[49m\u001b[43m)\u001b[49m\n\u001b[1;32m   1502\u001b[0m \u001b[38;5;66;03m# Do not call functions when jit is used\u001b[39;00m\n\u001b[1;32m   1503\u001b[0m full_backward_hooks, non_full_backward_hooks \u001b[38;5;241m=\u001b[39m [], []\n",
      "File \u001b[0;32m~/class/448/mde/nn/model.py:197\u001b[0m, in \u001b[0;36mensembleCNNBiGRU.forward\u001b[0;34m(self, posts)\u001b[0m\n\u001b[1;32m    195\u001b[0m \u001b[38;5;28;01mdef\u001b[39;00m \u001b[38;5;21mforward\u001b[39m(\u001b[38;5;28mself\u001b[39m, posts):\n\u001b[1;32m    196\u001b[0m     cnn_out \u001b[38;5;241m=\u001b[39m \u001b[38;5;28mself\u001b[39m\u001b[38;5;241m.\u001b[39mcnn(posts)\n\u001b[0;32m--> 197\u001b[0m     bigru_out \u001b[38;5;241m=\u001b[39m \u001b[38;5;28;43mself\u001b[39;49m\u001b[38;5;241;43m.\u001b[39;49m\u001b[43mbigru\u001b[49m\u001b[43m(\u001b[49m\u001b[43mposts\u001b[49m\u001b[43m)\u001b[49m\n\u001b[1;32m    198\u001b[0m     combined_input \u001b[38;5;241m=\u001b[39m torch\u001b[38;5;241m.\u001b[39mstack((cnn_out, bigru_out), dim\u001b[38;5;241m=\u001b[39m\u001b[38;5;241m1\u001b[39m)\n\u001b[1;32m    200\u001b[0m     predictionProbs \u001b[38;5;241m=\u001b[39m \u001b[38;5;28mself\u001b[39m\u001b[38;5;241m.\u001b[39moutput(combined_input)\u001b[38;5;241m.\u001b[39mflatten()\n",
      "File \u001b[0;32m~/class/448/eecs448/lib/python3.8/site-packages/torch/nn/modules/module.py:1501\u001b[0m, in \u001b[0;36mModule._call_impl\u001b[0;34m(self, *args, **kwargs)\u001b[0m\n\u001b[1;32m   1496\u001b[0m \u001b[38;5;66;03m# If we don't have any hooks, we want to skip the rest of the logic in\u001b[39;00m\n\u001b[1;32m   1497\u001b[0m \u001b[38;5;66;03m# this function, and just call forward.\u001b[39;00m\n\u001b[1;32m   1498\u001b[0m \u001b[38;5;28;01mif\u001b[39;00m \u001b[38;5;129;01mnot\u001b[39;00m (\u001b[38;5;28mself\u001b[39m\u001b[38;5;241m.\u001b[39m_backward_hooks \u001b[38;5;129;01mor\u001b[39;00m \u001b[38;5;28mself\u001b[39m\u001b[38;5;241m.\u001b[39m_backward_pre_hooks \u001b[38;5;129;01mor\u001b[39;00m \u001b[38;5;28mself\u001b[39m\u001b[38;5;241m.\u001b[39m_forward_hooks \u001b[38;5;129;01mor\u001b[39;00m \u001b[38;5;28mself\u001b[39m\u001b[38;5;241m.\u001b[39m_forward_pre_hooks\n\u001b[1;32m   1499\u001b[0m         \u001b[38;5;129;01mor\u001b[39;00m _global_backward_pre_hooks \u001b[38;5;129;01mor\u001b[39;00m _global_backward_hooks\n\u001b[1;32m   1500\u001b[0m         \u001b[38;5;129;01mor\u001b[39;00m _global_forward_hooks \u001b[38;5;129;01mor\u001b[39;00m _global_forward_pre_hooks):\n\u001b[0;32m-> 1501\u001b[0m     \u001b[38;5;28;01mreturn\u001b[39;00m \u001b[43mforward_call\u001b[49m\u001b[43m(\u001b[49m\u001b[38;5;241;43m*\u001b[39;49m\u001b[43margs\u001b[49m\u001b[43m,\u001b[49m\u001b[43m \u001b[49m\u001b[38;5;241;43m*\u001b[39;49m\u001b[38;5;241;43m*\u001b[39;49m\u001b[43mkwargs\u001b[49m\u001b[43m)\u001b[49m\n\u001b[1;32m   1502\u001b[0m \u001b[38;5;66;03m# Do not call functions when jit is used\u001b[39;00m\n\u001b[1;32m   1503\u001b[0m full_backward_hooks, non_full_backward_hooks \u001b[38;5;241m=\u001b[39m [], []\n",
      "File \u001b[0;32m~/class/448/mde/nn/model.py:89\u001b[0m, in \u001b[0;36mBiGRU.forward\u001b[0;34m(self, posts)\u001b[0m\n\u001b[1;32m     85\u001b[0m packed_input \u001b[38;5;241m=\u001b[39m nn\u001b[38;5;241m.\u001b[39mutils\u001b[38;5;241m.\u001b[39mrnn\u001b[38;5;241m.\u001b[39mpack_padded_sequence(\n\u001b[1;32m     86\u001b[0m     padded_input, input_lengths, batch_first\u001b[38;5;241m=\u001b[39m\u001b[38;5;28;01mFalse\u001b[39;00m, enforce_sorted\u001b[38;5;241m=\u001b[39m\u001b[38;5;28;01mFalse\u001b[39;00m\n\u001b[1;32m     87\u001b[0m )\n\u001b[1;32m     88\u001b[0m packed_output, _ \u001b[38;5;241m=\u001b[39m \u001b[38;5;28mself\u001b[39m\u001b[38;5;241m.\u001b[39mbigru(packed_input) \u001b[38;5;66;03m# shape (max_post_len, batch_len, rnn_hidden_dim)\u001b[39;00m\n\u001b[0;32m---> 89\u001b[0m output, _ \u001b[38;5;241m=\u001b[39m \u001b[43mnn\u001b[49m\u001b[38;5;241;43m.\u001b[39;49m\u001b[43mutils\u001b[49m\u001b[38;5;241;43m.\u001b[39;49m\u001b[43mrnn\u001b[49m\u001b[38;5;241;43m.\u001b[39;49m\u001b[43mpad_packed_sequence\u001b[49m\u001b[43m(\u001b[49m\n\u001b[1;32m     90\u001b[0m \u001b[43m    \u001b[49m\u001b[43mpacked_output\u001b[49m\u001b[43m,\u001b[49m\u001b[43m \u001b[49m\u001b[43mbatch_first\u001b[49m\u001b[38;5;241;43m=\u001b[39;49m\u001b[38;5;28;43;01mFalse\u001b[39;49;00m\u001b[43m,\u001b[49m\u001b[43m \u001b[49m\u001b[43mtotal_length\u001b[49m\u001b[38;5;241;43m=\u001b[39;49m\u001b[43mtotal_length\u001b[49m\n\u001b[1;32m     91\u001b[0m \u001b[43m\u001b[49m\u001b[43m)\u001b[49m\n\u001b[1;32m     92\u001b[0m \u001b[38;5;66;03m# compute max pooling along the time dimension to collapse into a single rnn_hidden_dim vector\u001b[39;00m\n\u001b[1;32m     93\u001b[0m rnn_embeddings \u001b[38;5;241m=\u001b[39m torch\u001b[38;5;241m.\u001b[39mmax(output, dim\u001b[38;5;241m=\u001b[39m\u001b[38;5;241m0\u001b[39m)\u001b[38;5;241m.\u001b[39mvalues\n",
      "File \u001b[0;32m~/class/448/eecs448/lib/python3.8/site-packages/torch/nn/utils/rnn.py:337\u001b[0m, in \u001b[0;36mpad_packed_sequence\u001b[0;34m(sequence, batch_first, padding_value, total_length)\u001b[0m\n\u001b[1;32m    335\u001b[0m \u001b[38;5;28;01mif\u001b[39;00m unsorted_indices \u001b[38;5;129;01mis\u001b[39;00m \u001b[38;5;129;01mnot\u001b[39;00m \u001b[38;5;28;01mNone\u001b[39;00m:\n\u001b[1;32m    336\u001b[0m     batch_dim \u001b[38;5;241m=\u001b[39m \u001b[38;5;241m0\u001b[39m \u001b[38;5;28;01mif\u001b[39;00m batch_first \u001b[38;5;28;01melse\u001b[39;00m \u001b[38;5;241m1\u001b[39m\n\u001b[0;32m--> 337\u001b[0m     \u001b[38;5;28;01mreturn\u001b[39;00m \u001b[43mpadded_output\u001b[49m\u001b[38;5;241;43m.\u001b[39;49m\u001b[43mindex_select\u001b[49m\u001b[43m(\u001b[49m\u001b[43mbatch_dim\u001b[49m\u001b[43m,\u001b[49m\u001b[43m \u001b[49m\u001b[43munsorted_indices\u001b[49m\u001b[43m)\u001b[49m, lengths[unsorted_indices\u001b[38;5;241m.\u001b[39mcpu()]\n\u001b[1;32m    338\u001b[0m \u001b[38;5;28;01mreturn\u001b[39;00m padded_output, lengths\n",
      "\u001b[0;31mOutOfMemoryError\u001b[0m: CUDA out of memory. Tried to allocate 522.00 MiB (GPU 0; 4.00 GiB total capacity; 1.85 GiB already allocated; 149.25 MiB free; 3.80 GiB allowed; 1.97 GiB reserved in total by PyTorch) If reserved memory is >> allocated memory try setting max_split_size_mb to avoid fragmentation.  See documentation for Memory Management and PYTORCH_CUDA_ALLOC_CONF"
     ]
    }
   ],
   "source": [
    "import itertools\n",
    "from tqdm.notebook import tqdm\n",
    "torch.cuda.empty_cache() \n",
    "torch.cuda.set_per_process_memory_fraction(0.95)\n",
    "\n",
    "# Credit for this and a bunch of the training/validation code to EECS 487 staff\n",
    "def search_param():\n",
    "    \"\"\"Experiemnt on different hyper parameters.\"\"\"\n",
    "    cnn_dense_hidden_dim, rnn_dense_hidden_dim, dropout_rate, lr, weight_decay = [256], [512], [0], [0.01], [0]\n",
    "    total_comb = len(cnn_dense_hidden_dim) * len(rnn_dense_hidden_dim) * len(dropout_rate) * len(lr) * len(weight_decay)\n",
    "    print(\"cnn hidden from: {}\\nrnn hidden from: {}\\nlr from: {}\\nwd from: {}\\ndropout from: {}\".format(\n",
    "        cnn_dense_hidden_dim, rnn_dense_hidden_dim, lr, weight_decay, dropout_rate\n",
    "    ))\n",
    "    best_model, best_stats = None, None\n",
    "    best_accuracy, best_lr, best_wd, best_cnn_hd, best_rnn_hd, best_dr = 0, 0, 0, 0, 0, 0\n",
    "    for cnn_hd, rnn_hd, dr, lr, wd in tqdm(\n",
    "        itertools.product(cnn_dense_hidden_dim, rnn_dense_hidden_dim, dropout_rate, lr, weight_decay),\n",
    "        total=total_comb\n",
    "    ):\n",
    "        net = ensembleCNNBiGRU(cnn_hd, rnn_hd, device, dr).to(device)\n",
    "        optim = get_optimizer(net, lr=lr, weight_decay=wd)\n",
    "        model, stats = train_model(net, train_loader, dev_loader, optim, num_epoch=100,\n",
    "                                   collect_cycle=500, device=device, verbose=True, patience=10, pos_weight=pos_weight)\n",
    "        # print accuracy\n",
    "        print(f\"{(cnn_hd, rnn_hd, dr, lr, wd)}: {stats['accuracy']}\")\n",
    "        # update best parameters if needed\n",
    "        if stats['accuracy'] > best_accuracy:\n",
    "            best_accuracy = stats['accuracy']\n",
    "            best_model, best_stats = model, stats\n",
    "            best_lr, best_wd, best_cnn_hd, best_rnn_hd, best_dr = lr, wd, cnn_hd, rnn_hd, dr\n",
    "    print(\"\\n\\nBest cnn hidden: {}, Best rnn hidden: {}, Best weight_decay: {}, Best lr: {}, Best dropout: {}\".format(\n",
    "        best_cnn_hd, best_rnn_hd, best_wd, best_lr, best_dr))\n",
    "    print(\"Accuracy: {:.4f}\".format(best_accuracy))\n",
    "    plot_loss(best_stats)\n",
    "    return best_model\n",
    "basic_model = search_param()"
   ]
  },
  {
   "cell_type": "code",
   "execution_count": 12,
   "id": "bab26de8",
   "metadata": {},
   "outputs": [
    {
     "name": "stdout",
     "output_type": "stream",
     "text": [
      "UAR on test: 0.5966012385121984, Accuracy on test set: 0.5848099969271741, Loss on test set 0.6497099935229308\n"
     ]
    }
   ],
   "source": [
    "best_model = ensembleCNNBiGRU(256, 512, device, 0)\n",
    "best_model.load_state_dict(torch.load('best_ensemble_nn.pt'))\n",
    "best_model.eval()\n",
    "best_model.to(device)\n",
    "loss_fn = nn.BCEWithLogitsLoss()\n",
    "test_uar, test_accuracy, test_total_loss = get_validation_performance(best_model, loss_fn, test_loader, device) \n",
    "    \n",
    "print(f\"UAR on test: {test_uar}, Accuracy on test set: {test_accuracy}, Loss on test set {test_total_loss}\")"
   ]
  }
 ],
 "metadata": {
  "accelerator": "GPU",
  "colab": {
   "provenance": []
  },
  "gpuClass": "standard",
  "kernelspec": {
   "display_name": "Python 3 (ipykernel)",
   "language": "python",
   "name": "python3"
  },
  "language_info": {
   "codemirror_mode": {
    "name": "ipython",
    "version": 3
   },
   "file_extension": ".py",
   "mimetype": "text/x-python",
   "name": "python",
   "nbconvert_exporter": "python",
   "pygments_lexer": "ipython3",
   "version": "3.8.10"
  }
 },
 "nbformat": 4,
 "nbformat_minor": 5
}
